{
 "cells": [
  {
   "cell_type": "markdown",
   "id": "5f4b726c-4bd5-4862-a794-15e692c26153",
   "metadata": {},
   "source": [
    "### 6. Miary centralne"
   ]
  },
  {
   "cell_type": "markdown",
   "id": "320ef8c7-3cb1-44b1-aef1-695ea172823b",
   "metadata": {},
   "source": [
    "Tło: \\\n",
    "Dysponujesz próbką 11 osób i ich rocznymi dochodami.\n",
    "\n",
    "Zadanie 1: \\\n",
    "Oblicz średnią, medianę i dominującą wartość.\n",
    "\n",
    "Zadanie 2: \\\n",
    "Spróbuj zinterpretować uzyskane liczby."
   ]
  },
  {
   "cell_type": "code",
   "execution_count": 6,
   "id": "758f2416-a6fc-4466-a403-301119cab230",
   "metadata": {},
   "outputs": [],
   "source": [
    "data = [\n",
    "    62000,\n",
    "    64000,\n",
    "    49000,\n",
    "    324000,\n",
    "    1264000,\n",
    "    54330,\n",
    "    64000,\n",
    "    51000, \n",
    "    55000,\n",
    "    48000,\n",
    "    53000,\n",
    "]"
   ]
  },
  {
   "cell_type": "code",
   "execution_count": 7,
   "id": "14d7a738-be5b-42e9-b737-11b15365c0d5",
   "metadata": {},
   "outputs": [
    {
     "name": "stdout",
     "output_type": "stream",
     "text": [
      "Średnia dochodów: 189848.18\n",
      "Mediana dochodów: 55000.0\n",
      "Dominująca wartość (moda): 64000\n"
     ]
    }
   ],
   "source": [
    "# Zadanie 1\n",
    "import pandas as pd\n",
    "\n",
    "# Tworzymy Series z danych\n",
    "s = pd.Series(data)\n",
    "\n",
    "# Obliczenie średniej\n",
    "mean_value = s.mean().round(2)\n",
    "\n",
    "# Obliczenie mediany\n",
    "median_value = s.median()\n",
    "\n",
    "# Obliczenie mody (dominującej wartości)\n",
    "mode_value = s.mode()[0]  # mode() zwraca Series, więc bierzemy pierwszy element\n",
    "\n",
    "# Wyniki\n",
    "print(f\"Średnia dochodów: {mean_value}\")\n",
    "print(f\"Mediana dochodów: {median_value}\")\n",
    "print(f\"Dominująca wartość (moda): {mode_value}\")"
   ]
  },
  {
   "cell_type": "markdown",
   "id": "912c26d1-366d-4f4b-9ce7-340dce98456d",
   "metadata": {},
   "source": [
    "#### Zadanie 2\n",
    "\n",
    "**Średnia** wynosząca 226050 jest zniekształcona przez bardzo wysokie wartości dochodów, takie jak 1264000, więc nie odzwierciedla \"typowego\" dochodu.\n",
    "\n",
    "**Mediana** wynosząca 54000 jest bardziej reprezentatywna, ponieważ jest odporna na wartości skrajne i wskazuje, że połowa osób zarabia mniej niż 54000, a połowa więcej.\n",
    "\n",
    "**Moda** wynosząca 64000 wskazuje, że dochód w wysokości 64000 występuje najczęściej w próbie.\n",
    "\n",
    "Podsumowując, w tej grupie danych mediana jest najlepszym wskaźnikiem typowego dochodu, ponieważ średnia jest mocno podciągana przez wartości skrajne."
   ]
  }
 ],
 "metadata": {
  "kernelspec": {
   "display_name": "Python 3 (ipykernel)",
   "language": "python",
   "name": "python3"
  },
  "language_info": {
   "codemirror_mode": {
    "name": "ipython",
    "version": 3
   },
   "file_extension": ".py",
   "mimetype": "text/x-python",
   "name": "python",
   "nbconvert_exporter": "python",
   "pygments_lexer": "ipython3",
   "version": "3.12.4"
  }
 },
 "nbformat": 4,
 "nbformat_minor": 5
}
