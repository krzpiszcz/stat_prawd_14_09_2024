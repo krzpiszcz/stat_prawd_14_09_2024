{
 "cells": [
  {
   "cell_type": "markdown",
   "id": "04aae0cd-bffc-4cf1-ba30-76aa6003582f",
   "metadata": {},
   "source": [
    "### 09. Odchylenie standardowe i współczynnik wariancji"
   ]
  },
  {
   "cell_type": "markdown",
   "id": "22e2fd47-49cf-403e-b9fc-2ae86d3c1be6",
   "metadata": {},
   "source": [
    "Tło: \\\n",
    "Dysponujesz rocznymi dochodami 11 osób z USA (w dolarach) i 11 osób z Danii (w koronach). Masz średni dochód dla USA z poprzednich ćwiczeń.\n",
    "\n",
    "Zadanie 1: \\\n",
    "Zdecyduj, czy powinieneś użyć wzoru dla próby, czy dla populacji do obliczenia odchylenia standardowego i współczynnika zmienności.\n",
    "\n",
    "Zadanie 2: \\\n",
    "Oblicz odchylenie standardowe dochodów w USA i Danii. \\\n",
    "Wskazówka: Zacznij od obliczenia średniej i wariancji.\n",
    "\n",
    "Zadanie 3: \\\n",
    "Oblicz współczynnik zmienności dochodów w USA i Danii.\n",
    "\n",
    "Zadanie 4: \\\n",
    "Spróbuj zinterpretować uzyskane liczby."
   ]
  },
  {
   "cell_type": "code",
   "execution_count": 11,
   "id": "aac687e5-9f24-46ae-9305-84b8fddf581f",
   "metadata": {},
   "outputs": [],
   "source": [
    "usa_income = [\n",
    "    62000,\n",
    "    64000,\n",
    "    49000,\n",
    "    324000,\n",
    "    1264000,\n",
    "    54330,\n",
    "    64000,\n",
    "    51000,\n",
    "    55000,\n",
    "    48000,\n",
    "    53000\n",
    "]"
   ]
  },
  {
   "cell_type": "code",
   "execution_count": 12,
   "id": "3a4d5b7a-c708-4d83-9959-dc00e390ba04",
   "metadata": {},
   "outputs": [],
   "source": [
    "denmark_income = [\n",
    "    462852.37,\n",
    "    470317.73,\n",
    "    567367.42,\n",
    "    589763.50,\n",
    "    500179.17,\n",
    "    492713.81,\n",
    "    515109.89,\n",
    "    507644.53,\n",
    "    425525.56,\n",
    "    522575.25,\n",
    "    500179.17\n",
    "]"
   ]
  },
  {
   "cell_type": "markdown",
   "id": "08172941-20b4-4910-98f0-3cfe8476972c",
   "metadata": {},
   "source": [
    "#### Zadanie 1\n",
    "\n",
    "Podobnie jak w przypadku poprzedniego zadania, w tym zadaniu też mamy do czynienia z próbą 11 osób z dwóch różnych krajów, a nie pełną populacją, dlatego użyjemy wzoru dla próby."
   ]
  },
  {
   "cell_type": "code",
   "execution_count": 13,
   "id": "2e8de0a5-54fc-4fb3-b8ce-27c1101613a3",
   "metadata": {},
   "outputs": [
    {
     "name": "stdout",
     "output_type": "stream",
     "text": [
      "Odchylenie standardowe USA: 365285.3809507898\n",
      "Odchylenie standardowe Danii: 45809.91722492684\n"
     ]
    }
   ],
   "source": [
    "# Zadanie 2\n",
    "import pandas as pd\n",
    "\n",
    "# Tworzymy DataFrame\n",
    "df_usa = pd.Series(usa_income, name=\"USA\")\n",
    "df_denmark = pd.Series(denmark_income, name=\"Denmark\")\n",
    "\n",
    "# Obliczanie średniej dochodów\n",
    "mean_usa = df_usa.mean()\n",
    "mean_denmark = df_denmark.mean()\n",
    "\n",
    "# Obliczanie wariancji (ddof=1 dla próby)\n",
    "variance_usa = df_usa.var()\n",
    "variance_denmark = df_denmark.var()\n",
    "\n",
    "# Obliczanie odchylenia standardowego\n",
    "std_dev_usa = df_usa.std()\n",
    "std_dev_denmark = df_denmark.std()\n",
    "\n",
    "print(f\"Odchylenie standardowe USA: {std_dev_usa}\")\n",
    "print(f\"Odchylenie standardowe Danii: {std_dev_denmark}\")"
   ]
  },
  {
   "cell_type": "code",
   "execution_count": 14,
   "id": "5ee54fe5-de00-47de-8f58-d8e593ab1117",
   "metadata": {},
   "outputs": [
    {
     "name": "stdout",
     "output_type": "stream",
     "text": [
      "Współczynnik zmienności USA: 192.41%\n",
      "Współczynnik zmienności Danii: 9.07%\n"
     ]
    }
   ],
   "source": [
    "# Zadanie 3\n",
    "\n",
    "# Obliczanie współczynnika zmienności\n",
    "cv_usa = (std_dev_usa / mean_usa) * 100\n",
    "cv_denmark = (std_dev_denmark / mean_denmark) * 100\n",
    "\n",
    "print(f\"Współczynnik zmienności USA: {cv_usa:.2f}%\")\n",
    "print(f\"Współczynnik zmienności Danii: {cv_denmark:.2f}%\")"
   ]
  },
  {
   "cell_type": "markdown",
   "id": "a992970a-153c-435c-ad52-b7f6b7071ec6",
   "metadata": {},
   "source": [
    "#### Zadanie 4\n",
    "\n",
    "W USA dochody są znacznie bardziej zróżnicowane (większe odchylenie standardowe), a współczynnik zmienności wskazuje, że w stosunku do średniego dochodu w USA występuje bardzo duża zmienność.\n",
    "\n",
    "W Danii dochody są mniej zróżnicowane, a współczynnik zmienności jest znacznie mniejszy, co sugeruje bardziej stabilny poziom dochodów.\n",
    "\n",
    "Współczynnik zmienności pozwala lepiej porównać zmienność dochodów między dwoma krajami, mimo że jednostki miary są różne (dolar w USA vs. korona w Danii)."
   ]
  }
 ],
 "metadata": {
  "kernelspec": {
   "display_name": "Python 3 (ipykernel)",
   "language": "python",
   "name": "python3"
  },
  "language_info": {
   "codemirror_mode": {
    "name": "ipython",
    "version": 3
   },
   "file_extension": ".py",
   "mimetype": "text/x-python",
   "name": "python",
   "nbconvert_exporter": "python",
   "pygments_lexer": "ipython3",
   "version": "3.12.4"
  }
 },
 "nbformat": 4,
 "nbformat_minor": 5
}
