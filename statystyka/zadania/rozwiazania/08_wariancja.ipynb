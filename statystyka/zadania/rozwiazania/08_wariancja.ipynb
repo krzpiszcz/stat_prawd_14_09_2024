{
 "cells": [
  {
   "cell_type": "markdown",
   "id": "41eb3218-62aa-4505-8de4-4f4309969ff7",
   "metadata": {},
   "source": [
    "### 8. Wariancja"
   ]
  },
  {
   "attachments": {},
   "cell_type": "markdown",
   "id": "45f9f8da-a71d-472e-9ecf-de4f7b2877ea",
   "metadata": {},
   "source": [
    "Tło: \\\n",
    "Dysponujesz danymi z rocznymi dochodami 11 osób z USA. Masz także średni dochód z zadania na temat średniej, mediany i dominującej wartości.\n",
    "\n",
    "Zadanie 1: \\\n",
    "Zdecyduj, czy powinieneś użyć wzoru dla próby, czy dla populacji do obliczenia wariancji.\n",
    "\n",
    "Zadanie 2: \\\n",
    "Oblicz wariancję ich dochodów.\n",
    "\n",
    "Zadanie 3: \\\n",
    "Ogólnie, co mówi ci ta liczba?"
   ]
  },
  {
   "cell_type": "markdown",
   "id": "b0b063c3-7891-40b1-8757-815d45abaebc",
   "metadata": {},
   "source": [
    "#### Zadanie 1\n",
    "\n",
    "Zarobki 11 osób są oczywiście próbą z całej populacji osób pracujących w USA, dopóty dopóki na podstawie wyników tych 11 osób chcemy wyciągać wnioski na temat całej populacji osób pracujących w USA. Dlatego przyjmujemy, że liczymy wariancję z próby."
   ]
  },
  {
   "cell_type": "code",
   "execution_count": 8,
   "id": "a4e99326-8428-41d3-82b0-9e9521e1e8a1",
   "metadata": {},
   "outputs": [],
   "source": [
    "data = [\n",
    "    62000,\n",
    "    64000,\n",
    "    49000,\n",
    "    324000,\n",
    "    1264000,\n",
    "    54330,\n",
    "    64000,\n",
    "    51000,\n",
    "    55000,\n",
    "    48000,\n",
    "    53000,\n",
    "]"
   ]
  },
  {
   "cell_type": "code",
   "execution_count": 9,
   "id": "aa720c0b-c463-40b4-b905-88f9be7f9b3f",
   "metadata": {},
   "outputs": [
    {
     "name": "stdout",
     "output_type": "stream",
     "text": [
      "Średni dochód: 189848.18\n",
      "Wariancja dochodów (próba): 133433409536.36\n"
     ]
    }
   ],
   "source": [
    "# Zadadnie 2\n",
    "import pandas as pd\n",
    "\n",
    "# Tworzymy DataFrame\n",
    "df = pd.DataFrame(data, columns=[\"Income\"])\n",
    "\n",
    "# Obliczanie średniej dochodów\n",
    "mean_income = df[\"Income\"].mean().round(2)\n",
    "\n",
    "# Obliczanie wariancji dla próby (domyślnie ddof=1)\n",
    "variance_sample = df[\"Income\"].var().round(2)\n",
    "\n",
    "# Wyniki\n",
    "print(f\"Średni dochód: {mean_income}\")\n",
    "print(f\"Wariancja dochodów (próba): {variance_sample}\")"
   ]
  },
  {
   "cell_type": "markdown",
   "id": "f3cc9083-8a5f-4994-9dee-e9c565ba7050",
   "metadata": {},
   "source": [
    "#### Zadanie 3\n",
    "\n",
    "Wariancja mówi nam, jak bardzo dane są rozproszone względem średniej. Jeśli wariancja jest wysoka, oznacza to, że dochody są bardzo zróżnicowane, a jeśli jest niska, to dane są bardziej jednorodne. Wartość wariancji jest przydatna do oceny rozproszenia w próbie lub populacji.\n",
    "\n",
    "Wariancja jest wyrażona w kwadratach jednostki miary (np. kwadrat dolarów w przypadku dochodów). Może to być trudne do interpretacji, dlatego często używa się odchylenia standardowego (pierwiastek z wariancji), które ma tę samą jednostkę miary co dane (np. dolary)."
   ]
  }
 ],
 "metadata": {
  "kernelspec": {
   "display_name": "Python 3 (ipykernel)",
   "language": "python",
   "name": "python3"
  },
  "language_info": {
   "codemirror_mode": {
    "name": "ipython",
    "version": 3
   },
   "file_extension": ".py",
   "mimetype": "text/x-python",
   "name": "python",
   "nbconvert_exporter": "python",
   "pygments_lexer": "ipython3",
   "version": "3.12.4"
  }
 },
 "nbformat": 4,
 "nbformat_minor": 5
}
