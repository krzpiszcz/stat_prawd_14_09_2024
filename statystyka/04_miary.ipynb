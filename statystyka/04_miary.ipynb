{
 "cells": [
  {
   "cell_type": "markdown",
   "id": "82b55836-9fa7-4735-9c25-2b4fa0147583",
   "metadata": {},
   "source": [
    "## Miary"
   ]
  },
  {
   "cell_type": "markdown",
   "id": "2bff2221-7918-4af5-a50c-423357dc7c6e",
   "metadata": {},
   "source": [
    "Dysponując zbiorem danych chcemy zazwyczaj określić jakieś jego charakterystyki, metryki pozwalające w zwięzły sposób określić nam jakieś cechy tego zbiory. Takie wartości nazywamy miarami. Statystki opisowe dzielimy na trzy grupy:\n",
    "- miary tendencji centralnych\n",
    "- miary rozproszenia\n",
    "- miary asymetrii\n",
    "\n",
    "Omówmy każdy z typów z osobna"
   ]
  },
  {
   "cell_type": "markdown",
   "id": "48d45856-fc7c-4bfe-bf82-035eacb6fafe",
   "metadata": {},
   "source": [
    "### 1. Miary tendencji centralnej\n",
    "\n",
    "Miary tendencji centralnej aka miary centralne (**ang. Measures of central tendency**), to takie miary które wskazują na centralne (bliskie środka) wartości cechy w rozkładzie. Najpopularniejszymi miarami tendencji centralnej są: \n",
    "\n",
    "A. średnia \\\n",
    "B. mediana \\\n",
    "C. dominanta"
   ]
  },
  {
   "cell_type": "markdown",
   "id": "d780ce26-5f29-4cea-9e6f-718c2a9ce6e8",
   "metadata": {},
   "source": [
    "#### A. Średnia\n",
    "\n",
    "Średnia (**ang. mean aka simple average**), to wartość, która reprezentuje przeciętną wielkość zbioru danych, obliczaną przez podzielenie sumy wszystkich wartości przez ich liczbę. Do jej oznaczenia używamy symbolu:\n",
    "- $\\mu$ dla średniej z całej populacji\n",
    "- $\\bar{x}$ dla średniej z próbki\n",
    "\n",
    "Wzory na średnią to odpowiednio:\n",
    "- dla populacji\n",
    "\n",
    "$$ \\mu = \\frac{\\sum_{i=1}^N x_{i}}{N} = \\frac{x_1 + x_2 + x_3 + ... + x_{N-1} + x_N}{N} $$\n",
    "\n",
    "- dla próby\n",
    "\n",
    "$$ \\bar{x} = \\frac{\\sum_{i=1}^n x_{i}}{n} = \\frac{x_1 + x_2 + x_3 + ... + x_{n-1} + x_n}{n} $$"
   ]
  },
  {
   "cell_type": "markdown",
   "id": "e5894502-2f78-4721-a16f-9f4f94b5f5e8",
   "metadata": {},
   "source": [
    "Przykład\n",
    "\n",
    "Załóżmy, że chcemy zorientować się jakie są ceny pizz w Polsce. W tym celu idziemy do kilku pizzerii w dwóch miastach w Polsce i spisujemy ceny."
   ]
  },
  {
   "cell_type": "code",
   "execution_count": 1,
   "id": "e6f90a20-65e7-4dff-bb60-97d74eb9ecf4",
   "metadata": {},
   "outputs": [],
   "source": [
    "# Ceny pizz w 10 restauracjach\n",
    "import random\n",
    "\n",
    "# 10 cen pizz w warszawskich i krakowskich pizzeriach\n",
    "warszawa_pizza_prices = [20, 25, 30, 30, 40, 45, 50, 55, 60, 65, 75]\n",
    "krakow_pizza_prices = [20, 25, 30, 35, 40, 45, 50, 55, 60, 65, 70]\n",
    "    \n",
    "pizza_prices = {\n",
    "    \"Warszawa\": warszawa_pizza_prices,\n",
    "    \"Krakow\": krakow_pizza_prices\n",
    "}"
   ]
  },
  {
   "cell_type": "code",
   "execution_count": 2,
   "id": "18cc068c-ad9f-4ba3-8e60-d9baae1430bd",
   "metadata": {},
   "outputs": [
    {
     "data": {
      "text/html": [
       "<div>\n",
       "<style scoped>\n",
       "    .dataframe tbody tr th:only-of-type {\n",
       "        vertical-align: middle;\n",
       "    }\n",
       "\n",
       "    .dataframe tbody tr th {\n",
       "        vertical-align: top;\n",
       "    }\n",
       "\n",
       "    .dataframe thead th {\n",
       "        text-align: right;\n",
       "    }\n",
       "</style>\n",
       "<table border=\"1\" class=\"dataframe\">\n",
       "  <thead>\n",
       "    <tr style=\"text-align: right;\">\n",
       "      <th></th>\n",
       "      <th>Warszawa</th>\n",
       "      <th>Krakow</th>\n",
       "    </tr>\n",
       "  </thead>\n",
       "  <tbody>\n",
       "    <tr>\n",
       "      <th>0</th>\n",
       "      <td>20</td>\n",
       "      <td>20</td>\n",
       "    </tr>\n",
       "    <tr>\n",
       "      <th>1</th>\n",
       "      <td>25</td>\n",
       "      <td>25</td>\n",
       "    </tr>\n",
       "    <tr>\n",
       "      <th>2</th>\n",
       "      <td>30</td>\n",
       "      <td>30</td>\n",
       "    </tr>\n",
       "    <tr>\n",
       "      <th>3</th>\n",
       "      <td>30</td>\n",
       "      <td>35</td>\n",
       "    </tr>\n",
       "    <tr>\n",
       "      <th>4</th>\n",
       "      <td>40</td>\n",
       "      <td>40</td>\n",
       "    </tr>\n",
       "    <tr>\n",
       "      <th>5</th>\n",
       "      <td>45</td>\n",
       "      <td>45</td>\n",
       "    </tr>\n",
       "    <tr>\n",
       "      <th>6</th>\n",
       "      <td>50</td>\n",
       "      <td>50</td>\n",
       "    </tr>\n",
       "    <tr>\n",
       "      <th>7</th>\n",
       "      <td>55</td>\n",
       "      <td>55</td>\n",
       "    </tr>\n",
       "    <tr>\n",
       "      <th>8</th>\n",
       "      <td>60</td>\n",
       "      <td>60</td>\n",
       "    </tr>\n",
       "    <tr>\n",
       "      <th>9</th>\n",
       "      <td>65</td>\n",
       "      <td>65</td>\n",
       "    </tr>\n",
       "    <tr>\n",
       "      <th>10</th>\n",
       "      <td>75</td>\n",
       "      <td>70</td>\n",
       "    </tr>\n",
       "  </tbody>\n",
       "</table>\n",
       "</div>"
      ],
      "text/plain": [
       "    Warszawa  Krakow\n",
       "0         20      20\n",
       "1         25      25\n",
       "2         30      30\n",
       "3         30      35\n",
       "4         40      40\n",
       "5         45      45\n",
       "6         50      50\n",
       "7         55      55\n",
       "8         60      60\n",
       "9         65      65\n",
       "10        75      70"
      ]
     },
     "execution_count": 2,
     "metadata": {},
     "output_type": "execute_result"
    }
   ],
   "source": [
    "# Dane, ramka danych\n",
    "import pandas as pd\n",
    "\n",
    "pizza_df = pd.DataFrame(pizza_prices)\n",
    "pizza_df"
   ]
  },
  {
   "cell_type": "markdown",
   "id": "37e79804-8f7b-4db9-a0c1-ea48120b148d",
   "metadata": {},
   "source": [
    "Policzmy średnią cenę pizzy w Warszawie.\n",
    "(populacja czy próbka?)\n",
    "\n",
    "$$\\bar{x}=\\frac{20 + 25 + 30 + 30 + 40 + 45 + 50 + 55 + 60 + 65 + 75}{11}=45.00$$"
   ]
  },
  {
   "cell_type": "code",
   "execution_count": 6,
   "id": "0446a5ca-ba51-4a59-9d85-d3548cdb695d",
   "metadata": {},
   "outputs": [
    {
     "data": {
      "text/plain": [
       "np.float64(45.0)"
      ]
     },
     "execution_count": 6,
     "metadata": {},
     "output_type": "execute_result"
    }
   ],
   "source": [
    "# średnia z restauracji warszawskich\n",
    "warszawa_mean = pizza_df[\"Warszawa\"].sum() / pizza_df[\"Warszawa\"].size\n",
    "warszawa_mean"
   ]
  },
  {
   "cell_type": "markdown",
   "id": "149d2b2f-0e79-4091-b3de-8135b75b6839",
   "metadata": {},
   "source": [
    "i średnią w Krakowie\n",
    "\n",
    "$$\\bar{x}=\\frac{20 + 25 + 30 + 35 + 40 + 45 + 50 + 55 + 60 + 65 + 70}{11}=45$$"
   ]
  },
  {
   "cell_type": "code",
   "execution_count": 8,
   "id": "d03e2484-36fe-49b7-90d8-76603af2f489",
   "metadata": {},
   "outputs": [
    {
     "data": {
      "text/plain": [
       "np.float64(45.0)"
      ]
     },
     "execution_count": 8,
     "metadata": {},
     "output_type": "execute_result"
    }
   ],
   "source": [
    "# średnia z restauracji krakowskich\n",
    "krakow_mean = pizza_df[\"Krakow\"].mean()\n",
    "krakow_mean"
   ]
  },
  {
   "cell_type": "code",
   "execution_count": 9,
   "id": "01f0a9e3-4326-45a0-b489-f02d1e09d201",
   "metadata": {},
   "outputs": [
    {
     "data": {
      "text/html": [
       "<div>\n",
       "<style scoped>\n",
       "    .dataframe tbody tr th:only-of-type {\n",
       "        vertical-align: middle;\n",
       "    }\n",
       "\n",
       "    .dataframe tbody tr th {\n",
       "        vertical-align: top;\n",
       "    }\n",
       "\n",
       "    .dataframe thead th {\n",
       "        text-align: right;\n",
       "    }\n",
       "</style>\n",
       "<table border=\"1\" class=\"dataframe\">\n",
       "  <thead>\n",
       "    <tr style=\"text-align: right;\">\n",
       "      <th></th>\n",
       "      <th>Warszawa</th>\n",
       "      <th>Krakow</th>\n",
       "    </tr>\n",
       "  </thead>\n",
       "  <tbody>\n",
       "    <tr>\n",
       "      <th>count</th>\n",
       "      <td>11.000000</td>\n",
       "      <td>11.000000</td>\n",
       "    </tr>\n",
       "    <tr>\n",
       "      <th>mean</th>\n",
       "      <td>45.000000</td>\n",
       "      <td>45.000000</td>\n",
       "    </tr>\n",
       "    <tr>\n",
       "      <th>std</th>\n",
       "      <td>17.748239</td>\n",
       "      <td>16.583124</td>\n",
       "    </tr>\n",
       "    <tr>\n",
       "      <th>min</th>\n",
       "      <td>20.000000</td>\n",
       "      <td>20.000000</td>\n",
       "    </tr>\n",
       "    <tr>\n",
       "      <th>25%</th>\n",
       "      <td>30.000000</td>\n",
       "      <td>32.500000</td>\n",
       "    </tr>\n",
       "    <tr>\n",
       "      <th>50%</th>\n",
       "      <td>45.000000</td>\n",
       "      <td>45.000000</td>\n",
       "    </tr>\n",
       "    <tr>\n",
       "      <th>75%</th>\n",
       "      <td>57.500000</td>\n",
       "      <td>57.500000</td>\n",
       "    </tr>\n",
       "    <tr>\n",
       "      <th>max</th>\n",
       "      <td>75.000000</td>\n",
       "      <td>70.000000</td>\n",
       "    </tr>\n",
       "  </tbody>\n",
       "</table>\n",
       "</div>"
      ],
      "text/plain": [
       "        Warszawa     Krakow\n",
       "count  11.000000  11.000000\n",
       "mean   45.000000  45.000000\n",
       "std    17.748239  16.583124\n",
       "min    20.000000  20.000000\n",
       "25%    30.000000  32.500000\n",
       "50%    45.000000  45.000000\n",
       "75%    57.500000  57.500000\n",
       "max    75.000000  70.000000"
      ]
     },
     "execution_count": 9,
     "metadata": {},
     "output_type": "execute_result"
    }
   ],
   "source": [
    "# Statystyki serii\n",
    "pizza_df.describe()"
   ]
  },
  {
   "cell_type": "markdown",
   "id": "26c4ad87-8b5e-4e00-98f3-ea6e4b27f6bb",
   "metadata": {},
   "source": [
    "Czy średnia jako miara tendencji centralnej zbioru ma jakieś wady?\n",
    "\n",
    "Tak."
   ]
  },
  {
   "cell_type": "markdown",
   "id": "c42a1a35-52da-41c5-9fe6-65e7bd8b686a",
   "metadata": {},
   "source": [
    "1. Wartość średniej zbioru często nie jest jednym z elementów tego zbioru, co może prowadzić od nieporozumień. "
   ]
  },
  {
   "cell_type": "markdown",
   "id": "c0f14c8e-c236-499f-8667-835d9bb756c8",
   "metadata": {},
   "source": [
    "2. Średnia jest bardzo podatna na outliery. Co to są outliery ? To tzw. wartości odstające. Spójrzmy na przykład.\n",
    "Powiedzmy, że w Warszawie odwiedziliśmy jeszcze jedną restauracje. Była super elegancką, bardzo droga i pizza w niej kosztowała 500 zł. "
   ]
  },
  {
   "cell_type": "code",
   "execution_count": 10,
   "id": "ef630ed0-59d9-4a8d-8de5-be8708ae064f",
   "metadata": {},
   "outputs": [
    {
     "data": {
      "text/html": [
       "<div>\n",
       "<style scoped>\n",
       "    .dataframe tbody tr th:only-of-type {\n",
       "        vertical-align: middle;\n",
       "    }\n",
       "\n",
       "    .dataframe tbody tr th {\n",
       "        vertical-align: top;\n",
       "    }\n",
       "\n",
       "    .dataframe thead th {\n",
       "        text-align: right;\n",
       "    }\n",
       "</style>\n",
       "<table border=\"1\" class=\"dataframe\">\n",
       "  <thead>\n",
       "    <tr style=\"text-align: right;\">\n",
       "      <th></th>\n",
       "      <th>Warszawa</th>\n",
       "      <th>Krakow</th>\n",
       "    </tr>\n",
       "  </thead>\n",
       "  <tbody>\n",
       "    <tr>\n",
       "      <th>0</th>\n",
       "      <td>20.0</td>\n",
       "      <td>20.0</td>\n",
       "    </tr>\n",
       "    <tr>\n",
       "      <th>1</th>\n",
       "      <td>25.0</td>\n",
       "      <td>25.0</td>\n",
       "    </tr>\n",
       "    <tr>\n",
       "      <th>2</th>\n",
       "      <td>30.0</td>\n",
       "      <td>30.0</td>\n",
       "    </tr>\n",
       "    <tr>\n",
       "      <th>3</th>\n",
       "      <td>30.0</td>\n",
       "      <td>35.0</td>\n",
       "    </tr>\n",
       "    <tr>\n",
       "      <th>4</th>\n",
       "      <td>40.0</td>\n",
       "      <td>40.0</td>\n",
       "    </tr>\n",
       "    <tr>\n",
       "      <th>5</th>\n",
       "      <td>45.0</td>\n",
       "      <td>45.0</td>\n",
       "    </tr>\n",
       "    <tr>\n",
       "      <th>6</th>\n",
       "      <td>50.0</td>\n",
       "      <td>50.0</td>\n",
       "    </tr>\n",
       "    <tr>\n",
       "      <th>7</th>\n",
       "      <td>55.0</td>\n",
       "      <td>55.0</td>\n",
       "    </tr>\n",
       "    <tr>\n",
       "      <th>8</th>\n",
       "      <td>60.0</td>\n",
       "      <td>60.0</td>\n",
       "    </tr>\n",
       "    <tr>\n",
       "      <th>9</th>\n",
       "      <td>65.0</td>\n",
       "      <td>65.0</td>\n",
       "    </tr>\n",
       "    <tr>\n",
       "      <th>10</th>\n",
       "      <td>75.0</td>\n",
       "      <td>70.0</td>\n",
       "    </tr>\n",
       "    <tr>\n",
       "      <th>11</th>\n",
       "      <td>500.0</td>\n",
       "      <td>NaN</td>\n",
       "    </tr>\n",
       "  </tbody>\n",
       "</table>\n",
       "</div>"
      ],
      "text/plain": [
       "    Warszawa  Krakow\n",
       "0       20.0    20.0\n",
       "1       25.0    25.0\n",
       "2       30.0    30.0\n",
       "3       30.0    35.0\n",
       "4       40.0    40.0\n",
       "5       45.0    45.0\n",
       "6       50.0    50.0\n",
       "7       55.0    55.0\n",
       "8       60.0    60.0\n",
       "9       65.0    65.0\n",
       "10      75.0    70.0\n",
       "11     500.0     NaN"
      ]
     },
     "execution_count": 10,
     "metadata": {},
     "output_type": "execute_result"
    }
   ],
   "source": [
    "# Dodajemy obserwacje\n",
    "pizza_df.loc[11] = [500, None]\n",
    "pizza_df"
   ]
  },
  {
   "cell_type": "markdown",
   "id": "019d9709-aad0-4ebc-a668-b5dc2d8e5d27",
   "metadata": {},
   "source": [
    "Sprawdźmy jak będzie wyglądała teraz średnia cena pizzy w Warszawie na podstawie naszej próby."
   ]
  },
  {
   "cell_type": "code",
   "execution_count": 11,
   "id": "02db2544-cad2-4296-842b-a8850ed8ccf4",
   "metadata": {},
   "outputs": [
    {
     "data": {
      "text/plain": [
       "np.float64(82.91666666666667)"
      ]
     },
     "execution_count": 11,
     "metadata": {},
     "output_type": "execute_result"
    }
   ],
   "source": [
    "# średnia dla nowych danych\n",
    "pizza_df[\"Warszawa\"].mean()"
   ]
  },
  {
   "cell_type": "code",
   "execution_count": 23,
   "id": "63c2a0a3-5e27-4d1a-9690-6574544f4fea",
   "metadata": {},
   "outputs": [
    {
     "data": {
      "text/plain": [
       "np.float64(45.0)"
      ]
     },
     "execution_count": 23,
     "metadata": {},
     "output_type": "execute_result"
    }
   ],
   "source": [
    "pizza_df[\"Krakow\"].mean()"
   ]
  },
  {
   "cell_type": "markdown",
   "id": "3ab38928-7af3-41bb-9621-41ff6789bed7",
   "metadata": {},
   "source": [
    "Średnia poszła mocno w górę i mimo, że patrząc na nasz zbiór prawdopodobieństwo, że idąc do losowo wybranej restauracji będziemy musieli zapłacić powyżej 80 zł za pizze jest bardzo niskie, to średnia wychodzi powyżej 80 zł. Jest znacznie wyższa niż w Krakowie i w ogóle nie należy do zbioru.\n",
    "\n",
    "Wniosek: sama średnia może nie wystarczyć, by wyciągnąć trafne wnioski. Jak możemy się ochronić przed tym problemem? Możemy obliczyć drugi wskaźnik - medianę."
   ]
  },
  {
   "cell_type": "markdown",
   "id": "91490e73-c8df-41c5-80e3-f277b12ee5a5",
   "metadata": {},
   "source": [
    "#### B. Mediana"
   ]
  },
  {
   "cell_type": "markdown",
   "id": "20f20413-7352-4363-9bee-6ef45c9bcadf",
   "metadata": {},
   "source": [
    "Mediana aka wartość środkowa (**ang. median**) to „środkowa” liczba w uporządkowanym zbiorze danych. Aby obliczyć medianę, musimy posortować nasze dane w porządku rosnącym. Mediana to liczba znajdująca się na pozycji $n+1$ podzielonej przez dwa w posortowanej liście, gdzie $n$ to liczba obserwacji. Jeżeli zbiór posiada nieparzystą liczbę obserwacji to mediana będzie dokładnie środkową wartością $X[\\frac{n+1}{2}]$. Jeżeli zbiór posiada parzystą liczbę obserwacji to mediana będzie średnią z dwóch środkowych wartości (odpowiednio $X[\\frac{n}{2}]$ i $X[\\frac{n}{2}+1]$).\n",
    "\n",
    "$$\n",
    "Med(X) = \n",
    "\\begin{cases}\n",
    "    X[\\frac{n+1}{2}] & \\text{jeżeli n jest liczbą nieparzystą}\\\\\n",
    "    \\frac{X[\\frac{n}{2}] + X[\\frac{n}{2} +1 ]}{2} & \\text{jeżeli n jest liczbą parzystą}\n",
    "\\end{cases}\n",
    "$$\n",
    "\n",
    "Oznaczenia są dla próbki. Jeżeli chcielibyśmy to samo napisać dla populacji należałoby zamienić $n$ na $N$."
   ]
  },
  {
   "cell_type": "markdown",
   "id": "efb81dad-b957-4160-883d-ab2d9aa0164a",
   "metadata": {},
   "source": [
    "Posortujmy ceny"
   ]
  },
  {
   "cell_type": "code",
   "execution_count": 16,
   "id": "b8cde3f2-3000-4054-a886-55ebc6409a7a",
   "metadata": {},
   "outputs": [
    {
     "data": {
      "text/html": [
       "<div>\n",
       "<style scoped>\n",
       "    .dataframe tbody tr th:only-of-type {\n",
       "        vertical-align: middle;\n",
       "    }\n",
       "\n",
       "    .dataframe tbody tr th {\n",
       "        vertical-align: top;\n",
       "    }\n",
       "\n",
       "    .dataframe thead th {\n",
       "        text-align: right;\n",
       "    }\n",
       "</style>\n",
       "<table border=\"1\" class=\"dataframe\">\n",
       "  <thead>\n",
       "    <tr style=\"text-align: right;\">\n",
       "      <th></th>\n",
       "      <th>Warszawa</th>\n",
       "      <th>Krakow</th>\n",
       "      <th>Warszawa_sorted</th>\n",
       "      <th>Krakow_sorted</th>\n",
       "    </tr>\n",
       "  </thead>\n",
       "  <tbody>\n",
       "    <tr>\n",
       "      <th>0</th>\n",
       "      <td>20.0</td>\n",
       "      <td>20.0</td>\n",
       "      <td>20.0</td>\n",
       "      <td>20.0</td>\n",
       "    </tr>\n",
       "    <tr>\n",
       "      <th>1</th>\n",
       "      <td>25.0</td>\n",
       "      <td>25.0</td>\n",
       "      <td>25.0</td>\n",
       "      <td>25.0</td>\n",
       "    </tr>\n",
       "    <tr>\n",
       "      <th>2</th>\n",
       "      <td>30.0</td>\n",
       "      <td>30.0</td>\n",
       "      <td>30.0</td>\n",
       "      <td>30.0</td>\n",
       "    </tr>\n",
       "    <tr>\n",
       "      <th>3</th>\n",
       "      <td>30.0</td>\n",
       "      <td>35.0</td>\n",
       "      <td>30.0</td>\n",
       "      <td>35.0</td>\n",
       "    </tr>\n",
       "    <tr>\n",
       "      <th>4</th>\n",
       "      <td>40.0</td>\n",
       "      <td>40.0</td>\n",
       "      <td>40.0</td>\n",
       "      <td>40.0</td>\n",
       "    </tr>\n",
       "    <tr>\n",
       "      <th>5</th>\n",
       "      <td>45.0</td>\n",
       "      <td>45.0</td>\n",
       "      <td>45.0</td>\n",
       "      <td>45.0</td>\n",
       "    </tr>\n",
       "    <tr>\n",
       "      <th>6</th>\n",
       "      <td>50.0</td>\n",
       "      <td>50.0</td>\n",
       "      <td>50.0</td>\n",
       "      <td>50.0</td>\n",
       "    </tr>\n",
       "    <tr>\n",
       "      <th>7</th>\n",
       "      <td>55.0</td>\n",
       "      <td>55.0</td>\n",
       "      <td>55.0</td>\n",
       "      <td>55.0</td>\n",
       "    </tr>\n",
       "    <tr>\n",
       "      <th>8</th>\n",
       "      <td>60.0</td>\n",
       "      <td>60.0</td>\n",
       "      <td>60.0</td>\n",
       "      <td>60.0</td>\n",
       "    </tr>\n",
       "    <tr>\n",
       "      <th>9</th>\n",
       "      <td>65.0</td>\n",
       "      <td>65.0</td>\n",
       "      <td>65.0</td>\n",
       "      <td>65.0</td>\n",
       "    </tr>\n",
       "    <tr>\n",
       "      <th>10</th>\n",
       "      <td>75.0</td>\n",
       "      <td>70.0</td>\n",
       "      <td>75.0</td>\n",
       "      <td>70.0</td>\n",
       "    </tr>\n",
       "    <tr>\n",
       "      <th>11</th>\n",
       "      <td>500.0</td>\n",
       "      <td>NaN</td>\n",
       "      <td>500.0</td>\n",
       "      <td>NaN</td>\n",
       "    </tr>\n",
       "  </tbody>\n",
       "</table>\n",
       "</div>"
      ],
      "text/plain": [
       "    Warszawa  Krakow  Warszawa_sorted  Krakow_sorted\n",
       "0       20.0    20.0             20.0           20.0\n",
       "1       25.0    25.0             25.0           25.0\n",
       "2       30.0    30.0             30.0           30.0\n",
       "3       30.0    35.0             30.0           35.0\n",
       "4       40.0    40.0             40.0           40.0\n",
       "5       45.0    45.0             45.0           45.0\n",
       "6       50.0    50.0             50.0           50.0\n",
       "7       55.0    55.0             55.0           55.0\n",
       "8       60.0    60.0             60.0           60.0\n",
       "9       65.0    65.0             65.0           65.0\n",
       "10      75.0    70.0             75.0           70.0\n",
       "11     500.0     NaN            500.0            NaN"
      ]
     },
     "execution_count": 16,
     "metadata": {},
     "output_type": "execute_result"
    }
   ],
   "source": [
    "# Dodajemy kolumny z posortowanymi cenami\n",
    "pizza_df['Warszawa_sorted'] = pizza_df['Warszawa'].sort_values().reset_index(drop=True)\n",
    "pizza_df['Krakow_sorted'] = pizza_df['Krakow'].sort_values().reset_index(drop=True)\n",
    "pizza_df"
   ]
  },
  {
   "cell_type": "markdown",
   "id": "1c6c7524-9e8c-4680-a0f5-dbdfb13e2bce",
   "metadata": {},
   "source": [
    "I teraz znajdźmy wartość środkową.\n",
    "\n",
    "- dla warszawskich pizzeri:\n",
    "$$n=10 \\implies \\text{n jest parzyste} \\implies Med(X) = \\frac{X[\\frac{n}{2}] + X[\\frac{n}{2}+1]}{2} = \\frac{45+50}{2} = 47.50$$\n",
    "\n",
    "- dla krakowskich pizzeri:\n",
    "$$n=10 \\implies \\text{n jest parzyste} \\implies Med(X) = \\frac{X[\\frac{n}{2}] + X[\\frac{n}{2}+1]}{2} = \\frac{45+50}{2} = 47.50$$"
   ]
  },
  {
   "cell_type": "code",
   "execution_count": 17,
   "id": "66dc45d9-1db6-4921-ad55-a16a4a4b45f9",
   "metadata": {},
   "outputs": [],
   "source": [
    "# Funkcja do liczenia mediany\n",
    "def median(data: pd.DataFrame) -> int:\n",
    "    \"\"\"Kod nie zgadza się ze wzorem, ponieważ w pythonie indeksujemy od zera.\"\"\"\n",
    "    n = data.size\n",
    "    if n % 2 == 0:\n",
    "        return (data[n//2] + data[n//2-1]) / 2\n",
    "    else:\n",
    "        return data[n//2]"
   ]
  },
  {
   "cell_type": "code",
   "execution_count": 20,
   "id": "52a57d6c-2bae-42a5-87b6-4eb36db7d90c",
   "metadata": {},
   "outputs": [
    {
     "data": {
      "text/plain": [
       "np.float64(47.5)"
      ]
     },
     "execution_count": 20,
     "metadata": {},
     "output_type": "execute_result"
    }
   ],
   "source": [
    "# Mediana warszawskich cen pizz\n",
    "median(pizza_df[\"Warszawa_sorted\"])"
   ]
  },
  {
   "cell_type": "code",
   "execution_count": 21,
   "id": "b59b0651-0a33-4ddc-b400-2d6a7f4aacc3",
   "metadata": {},
   "outputs": [
    {
     "data": {
      "text/plain": [
       "np.float64(47.5)"
      ]
     },
     "execution_count": 21,
     "metadata": {},
     "output_type": "execute_result"
    }
   ],
   "source": [
    "# Mediana krakowskich cen pizz\n",
    "median(pizza_df[\"Krakow_sorted\"])"
   ]
  },
  {
   "cell_type": "markdown",
   "id": "5956643c-8d5d-43d8-afb9-d62ce418ea17",
   "metadata": {},
   "source": [
    "Można też policzyć ją bezpośrednio"
   ]
  },
  {
   "cell_type": "code",
   "execution_count": 25,
   "id": "8fce3978-0d33-4c50-a15d-d49da8029783",
   "metadata": {},
   "outputs": [
    {
     "data": {
      "text/plain": [
       "np.float64(47.5)"
      ]
     },
     "execution_count": 25,
     "metadata": {},
     "output_type": "execute_result"
    }
   ],
   "source": [
    "# metoda `median`\n",
    "pizza_df[\"Warszawa\"].median()"
   ]
  },
  {
   "cell_type": "code",
   "execution_count": 27,
   "id": "fd7fa426-2c6c-411b-ba86-4c94e4f4705a",
   "metadata": {},
   "outputs": [
    {
     "data": {
      "text/plain": [
       "np.float64(45.0)"
      ]
     },
     "execution_count": 27,
     "metadata": {},
     "output_type": "execute_result"
    }
   ],
   "source": [
    "# metoda `median`\n",
    "pizza_df[\"Krakow\"].median()  # metoda `median` odrzuciła wpisy z wartością NaN przed policzeniem wartości liczbowej"
   ]
  },
  {
   "cell_type": "markdown",
   "id": "d2cb28dc-5629-4056-a424-f253418182b7",
   "metadata": {},
   "source": [
    "Zwróć uwagę, na to że nie ma różnicy jak droga była pizza w tej super eleganckiej restauracji. Nawet jeżeli za tą pizze zapłaciliśmy 1 milion, to mediana i tak pozostanie taka sama. Mediana jest znacznie mniej podatna na wpływ outlierów od średniej. Do pełnego zestawienia brakuje nam jednak wciąż jednej miary - dominanty."
   ]
  },
  {
   "cell_type": "markdown",
   "id": "6efbf46b-3379-41e3-b2c6-4d393a12b84d",
   "metadata": {},
   "source": [
    "Uogólnieniem mediany są **kwantyle** omówione w dodatku."
   ]
  },
  {
   "cell_type": "markdown",
   "id": "9ddd127f-b701-47de-b71e-25a925d8dfc6",
   "metadata": {},
   "source": [
    "#### C. Dominanta"
   ]
  },
  {
   "cell_type": "markdown",
   "id": "f0e48b0d-128c-4b5e-932e-fd9861d6af32",
   "metadata": {},
   "source": [
    "Dominanta (**ang. mode**) to wartość, która występuje najczęściej w zbiorze. Może być liczona zarówno na zbiorze danych kategorycznych jak i liczbowych, ale zostaniemy przy liczbowych danych."
   ]
  },
  {
   "cell_type": "code",
   "execution_count": 30,
   "id": "d731c8df-31ef-49d2-91af-8795515d760c",
   "metadata": {},
   "outputs": [
    {
     "data": {
      "text/plain": [
       "np.float64(30.0)"
      ]
     },
     "execution_count": 30,
     "metadata": {},
     "output_type": "execute_result"
    }
   ],
   "source": [
    "# Znajdowanie dominanty, metoda `mode`\n",
    "warszawa_mode = pizza_df[\"Warszawa\"].mode()[0]\n",
    "warszawa_mode"
   ]
  },
  {
   "cell_type": "code",
   "execution_count": 35,
   "id": "80c24c3b-17b6-434e-87f4-bb6925945f7c",
   "metadata": {},
   "outputs": [
    {
     "data": {
      "text/plain": [
       "np.float64(20.0)"
      ]
     },
     "execution_count": 35,
     "metadata": {},
     "output_type": "execute_result"
    }
   ],
   "source": [
    "# Dominanta, metoda, metoda `mode`\n",
    "krakow_mode = pizza_df[\"Krakow\"].mode()[0]\n",
    "krakow_mode"
   ]
  },
  {
   "cell_type": "markdown",
   "id": "5f8e6f67-a187-47bb-b913-b249ff99bedb",
   "metadata": {},
   "source": [
    "Każdy z krakowskich pomiarów występuje w zbiorze tylko raz, dlatego krakowski zbior nie posiada dominanty (albo wszystkie pomiary są dominantami). Python podaje pierwszą napotkaną wartość."
   ]
  },
  {
   "cell_type": "markdown",
   "id": "0abdd1c6-19d6-4179-99cc-34faad46cbb6",
   "metadata": {},
   "source": [
    "Najczęściej spotykana cena pizzy w Warszawie to zaledwie 30zł, mimo że średnia i mediana sugerowały, że jest znacznie droższa."
   ]
  },
  {
   "cell_type": "markdown",
   "id": "00205c9a-b8de-43d1-9514-73cc07e1ad87",
   "metadata": {},
   "source": [
    "**Podsumowanie**\n",
    "\n",
    "Poznaliśmy trzy miary tendencji centralnej. Która z nich jest najlepsza ?\n",
    "\n",
    "Przykład pizzami pokazuje, że miary tendencji centralnej powinny być stosowane łącznie, a nie osobno. Każda z nich daje nam inny wgląd w dane. Nie ma więc jednej najlepszej miary, ale używanie tylko jednej jest zdecydowanie najgorszym rozwiązaniem\n",
    "\n",
    "Przejdźmy do kolejnego typu miary - miary rozproszenia."
   ]
  },
  {
   "cell_type": "markdown",
   "id": "0311818c-8f8b-466e-85b0-47261e9b5774",
   "metadata": {},
   "source": [
    "### 2. Miary rozproszenia\n",
    "\n",
    "Miary rozproszenia aka miary zmienności, miary dyspersji (**ang. Measure of variability**) służą do oszacowywania zmienności danych w zbiorze. Czyli mając już wartość centralną, przechodzimy do kolejnej cechy jaką jest siła rozproszenia danych wokół tej wartości. Im dane są bardziej oddalone od wartości centralnej tym zmienność danych w tym zbiorze jest większa. Isnieje wiele miar rozproszenia. Do najpopularniejszych należą:\n",
    "\n",
    "1. Warianacja\n",
    "2. Standardowe odchylenie\n",
    "3. Współczynnik zmienności\n",
    "\n",
    "Omówmy je kolejno."
   ]
  },
  {
   "cell_type": "markdown",
   "id": "017f2301-6504-41f9-8abc-8096e3d88e48",
   "metadata": {},
   "source": [
    "#### 1. Wariancja"
   ]
  },
  {
   "attachments": {
    "2a681984-cdf2-4f22-aa03-7dba1900170b.png": {
     "image/png": "[encoded data removed]"
    }
   },
   "cell_type": "markdown",
   "id": "874c67f8-5cae-437f-a883-6d61f13999e9",
   "metadata": {},
   "source": [
    "Wariancja mierzy odległość wszystkich punktów zbioru od średniej.\n",
    "\n",
    "![image.png](attachment:2a681984-cdf2-4f22-aa03-7dba1900170b.png)"
   ]
  },
  {
   "cell_type": "markdown",
   "id": "e0e882fd-2e23-4373-850a-0a0f22a36073",
   "metadata": {},
   "source": [
    "Zanim skupimy się na wariancji powtórzmy jeden, istotny fakt dotyczący statystyk.\n",
    "\n",
    "Kiedy nasze pomiary dotyczą całej populacji mamy pomierzone wszystko i w związku z tym możemy być w 100% pewni w sprawie wyliczanych parametrów. Kiedy dane, którymi dysponujemy są jedynie próbką z całej populacji wyliczone statystyki możemy traktować wyłącznie jako przybliżenie, aproksymacje (mówimy estymator) parametrów całej populacji. Co więcej jeżeli weźmiemy 10 różnych próbek z tej samej populacji otrzymamy 10 różnych przybliżeń tego samego parametru. \n",
    "\n",
    "Statystycy rozwiązali ten problem dostosowując formuły dla poszczególnych statystyk, w taki sposób, żeby uwzględniały ten fakt. Dlatego formuły na statystyki często podajemy w dwóch postaciach: dla całej populacji i dla próbki. Tak jak to było w przypadku średniej.\n",
    "\n",
    "Średnia dla populacji:\n",
    "$$ \\mu = \\frac{\\sum_{i=1}^N x_{i}}{N} $$\n",
    "\n",
    "Średnia dla próbki\n",
    "$$ \\bar{x} = \\frac{\\sum_{i=1}^n x_{i}}{n} $$\n",
    "\n",
    "i są to dwie różne rzeczy. Mimo, że liczone sie identycznie. Akurat w przypadku średniej liczone są identycznie. W przypadku innych statystyk już niekoniecznie.\n",
    "\n",
    "Dobrze, to teraz wróćmy do wariancji."
   ]
  },
  {
   "cell_type": "markdown",
   "id": "d5f212fd-8b09-478b-a114-135b6b0b9ef5",
   "metadata": {},
   "source": [
    "Przyjmijmy jakiś prosty zbiór danych i przyjmijmy, że dane reprezentują całą populacje."
   ]
  },
  {
   "cell_type": "code",
   "execution_count": 36,
   "id": "046c3357-ee50-4dd9-9f81-cb883deca46e",
   "metadata": {},
   "outputs": [
    {
     "data": {
      "text/html": [
       "<div>\n",
       "<style scoped>\n",
       "    .dataframe tbody tr th:only-of-type {\n",
       "        vertical-align: middle;\n",
       "    }\n",
       "\n",
       "    .dataframe tbody tr th {\n",
       "        vertical-align: top;\n",
       "    }\n",
       "\n",
       "    .dataframe thead th {\n",
       "        text-align: right;\n",
       "    }\n",
       "</style>\n",
       "<table border=\"1\" class=\"dataframe\">\n",
       "  <thead>\n",
       "    <tr style=\"text-align: right;\">\n",
       "      <th></th>\n",
       "      <th>population</th>\n",
       "    </tr>\n",
       "  </thead>\n",
       "  <tbody>\n",
       "    <tr>\n",
       "      <th>0</th>\n",
       "      <td>1</td>\n",
       "    </tr>\n",
       "    <tr>\n",
       "      <th>1</th>\n",
       "      <td>2</td>\n",
       "    </tr>\n",
       "    <tr>\n",
       "      <th>2</th>\n",
       "      <td>3</td>\n",
       "    </tr>\n",
       "    <tr>\n",
       "      <th>3</th>\n",
       "      <td>4</td>\n",
       "    </tr>\n",
       "    <tr>\n",
       "      <th>4</th>\n",
       "      <td>5</td>\n",
       "    </tr>\n",
       "  </tbody>\n",
       "</table>\n",
       "</div>"
      ],
      "text/plain": [
       "   population\n",
       "0           1\n",
       "1           2\n",
       "2           3\n",
       "3           4\n",
       "4           5"
      ]
     },
     "execution_count": 36,
     "metadata": {},
     "output_type": "execute_result"
    }
   ],
   "source": [
    "# Przykładowa populacja\n",
    "import pandas as pd\n",
    "\n",
    "data = {\n",
    "    \"population\": [1, 2, 3, 4, 5]\n",
    "}\n",
    "population_df = pd.DataFrame(data)\n",
    "population_df"
   ]
  },
  {
   "cell_type": "markdown",
   "id": "93745c03-ece7-4a6a-a2a1-8f8c9cacc80c",
   "metadata": {},
   "source": [
    "W jaki sposób moglibyśmy oszacować stopień zmienności tych danych. Jedną z pierwszych propozycji jest policzenie odległości każdego z punktów od średniej, a potem znalezienie średniej z tych wartości. Czyli policzenie średniej odległości wszystkich punktów zbioru od średniej. Spróbujmy"
   ]
  },
  {
   "cell_type": "markdown",
   "id": "72f3d313-8fb1-4d30-b4c7-3615bcbb5b67",
   "metadata": {},
   "source": [
    "Liczymy średnią"
   ]
  },
  {
   "cell_type": "code",
   "execution_count": 38,
   "id": "4543d061-7d56-4a9a-92bb-c26c34b45fec",
   "metadata": {},
   "outputs": [
    {
     "data": {
      "text/plain": [
       "np.float64(3.0)"
      ]
     },
     "execution_count": 38,
     "metadata": {},
     "output_type": "execute_result"
    }
   ],
   "source": [
    "# Średnia populacji\n",
    "mean = population_df['population'].mean()\n",
    "mean"
   ]
  },
  {
   "cell_type": "markdown",
   "id": "4a9e5a1e-a2e1-4cf8-ba6b-790ec9d58fee",
   "metadata": {},
   "source": [
    "Teraz odległości.\n",
    "\n",
    "$$\\sum_{i=1}^N (x_i-\\mu) = (1-3) + (2-3) + (3-3) + (4-3) + (5-3)$$"
   ]
  },
  {
   "cell_type": "code",
   "execution_count": 39,
   "id": "d12f4f28-34db-4abf-bbcf-43c60e461a66",
   "metadata": {},
   "outputs": [
    {
     "data": {
      "text/html": [
       "<div>\n",
       "<style scoped>\n",
       "    .dataframe tbody tr th:only-of-type {\n",
       "        vertical-align: middle;\n",
       "    }\n",
       "\n",
       "    .dataframe tbody tr th {\n",
       "        vertical-align: top;\n",
       "    }\n",
       "\n",
       "    .dataframe thead th {\n",
       "        text-align: right;\n",
       "    }\n",
       "</style>\n",
       "<table border=\"1\" class=\"dataframe\">\n",
       "  <thead>\n",
       "    <tr style=\"text-align: right;\">\n",
       "      <th></th>\n",
       "      <th>population</th>\n",
       "      <th>distance</th>\n",
       "    </tr>\n",
       "  </thead>\n",
       "  <tbody>\n",
       "    <tr>\n",
       "      <th>0</th>\n",
       "      <td>1</td>\n",
       "      <td>-2.0</td>\n",
       "    </tr>\n",
       "    <tr>\n",
       "      <th>1</th>\n",
       "      <td>2</td>\n",
       "      <td>-1.0</td>\n",
       "    </tr>\n",
       "    <tr>\n",
       "      <th>2</th>\n",
       "      <td>3</td>\n",
       "      <td>0.0</td>\n",
       "    </tr>\n",
       "    <tr>\n",
       "      <th>3</th>\n",
       "      <td>4</td>\n",
       "      <td>1.0</td>\n",
       "    </tr>\n",
       "    <tr>\n",
       "      <th>4</th>\n",
       "      <td>5</td>\n",
       "      <td>2.0</td>\n",
       "    </tr>\n",
       "  </tbody>\n",
       "</table>\n",
       "</div>"
      ],
      "text/plain": [
       "   population  distance\n",
       "0           1      -2.0\n",
       "1           2      -1.0\n",
       "2           3       0.0\n",
       "3           4       1.0\n",
       "4           5       2.0"
      ]
     },
     "execution_count": 39,
     "metadata": {},
     "output_type": "execute_result"
    }
   ],
   "source": [
    "# Odległości obserwacji od wartości średniej\n",
    "population_df['distance'] = population_df['population'] - mean\n",
    "population_df"
   ]
  },
  {
   "cell_type": "markdown",
   "id": "4aeded17-1693-4fa2-b6c5-8d221cb27469",
   "metadata": {},
   "source": [
    "A teraz policzmy średnią z tych odległości.\n",
    "\n",
    "$$\\frac{\\sum_{i=1}^N (x_i-\\mu)}{N}$$"
   ]
  },
  {
   "cell_type": "code",
   "execution_count": 40,
   "id": "96b079e6-685b-4ee0-9c82-50ba138a6616",
   "metadata": {},
   "outputs": [
    {
     "data": {
      "text/plain": [
       "np.float64(0.0)"
      ]
     },
     "execution_count": 40,
     "metadata": {},
     "output_type": "execute_result"
    }
   ],
   "source": [
    "# Średnia odległość\n",
    "mean_dist = population_df['distance'].mean()\n",
    "mean_dist"
   ]
  },
  {
   "cell_type": "markdown",
   "id": "b4858f75-762e-49b7-a772-b052fef1d441",
   "metadata": {},
   "source": [
    "0, hmm ?\n",
    "\n",
    "Ale zaraz, czy to przypadkiem właśnie nie 0 powinno wyjść? Przecież średnia to jest punkt równoodelgły od wszystkich punktów tego zbioru. Taki punk ciężkości. Czyli średnia odległość punktów od średniej nie jest dobrą miarą. \n",
    "\n",
    "W jaki sposób moglibyśmy uniknąć wyzerowania wartości? Punkty leżą po obu stronach średniej w związku z tym odległości są zarówno dodatnie jak i ujemne. Jeżeli pozbędziemy się znaku to wartość się nie wyzeruje. W jaki sposób możemy pozbyć się znaku? Na przykład podnosząc do kwadratu każdą odległość.\n",
    "\n",
    "$$\\frac{\\sum_{i=1}^N (x_i-\\mu)^2}{N} = \\frac{(1-3)^2 + (2-3)^2 + (3-3)^2 + (4-3)^2 + (5-3)^2}{5} = \\frac{4+1+0+1+4}{5}=\\frac{10}{5}=2$$\n",
    "\n",
    "Taką wartość nazywamy właśnie **wariancją** i oznaczamy $\\sigma^2$."
   ]
  },
  {
   "cell_type": "code",
   "execution_count": 42,
   "id": "6c4b68ca-c6d1-4aba-a64e-0d869dc33447",
   "metadata": {},
   "outputs": [
    {
     "data": {
      "text/html": [
       "<div>\n",
       "<style scoped>\n",
       "    .dataframe tbody tr th:only-of-type {\n",
       "        vertical-align: middle;\n",
       "    }\n",
       "\n",
       "    .dataframe tbody tr th {\n",
       "        vertical-align: top;\n",
       "    }\n",
       "\n",
       "    .dataframe thead th {\n",
       "        text-align: right;\n",
       "    }\n",
       "</style>\n",
       "<table border=\"1\" class=\"dataframe\">\n",
       "  <thead>\n",
       "    <tr style=\"text-align: right;\">\n",
       "      <th></th>\n",
       "      <th>population</th>\n",
       "      <th>distance</th>\n",
       "      <th>distance_sq</th>\n",
       "    </tr>\n",
       "  </thead>\n",
       "  <tbody>\n",
       "    <tr>\n",
       "      <th>0</th>\n",
       "      <td>1</td>\n",
       "      <td>-2.0</td>\n",
       "      <td>4.0</td>\n",
       "    </tr>\n",
       "    <tr>\n",
       "      <th>1</th>\n",
       "      <td>2</td>\n",
       "      <td>-1.0</td>\n",
       "      <td>1.0</td>\n",
       "    </tr>\n",
       "    <tr>\n",
       "      <th>2</th>\n",
       "      <td>3</td>\n",
       "      <td>0.0</td>\n",
       "      <td>0.0</td>\n",
       "    </tr>\n",
       "    <tr>\n",
       "      <th>3</th>\n",
       "      <td>4</td>\n",
       "      <td>1.0</td>\n",
       "      <td>1.0</td>\n",
       "    </tr>\n",
       "    <tr>\n",
       "      <th>4</th>\n",
       "      <td>5</td>\n",
       "      <td>2.0</td>\n",
       "      <td>4.0</td>\n",
       "    </tr>\n",
       "  </tbody>\n",
       "</table>\n",
       "</div>"
      ],
      "text/plain": [
       "   population  distance  distance_sq\n",
       "0           1      -2.0          4.0\n",
       "1           2      -1.0          1.0\n",
       "2           3       0.0          0.0\n",
       "3           4       1.0          1.0\n",
       "4           5       2.0          4.0"
      ]
     },
     "execution_count": 42,
     "metadata": {},
     "output_type": "execute_result"
    }
   ],
   "source": [
    "# Kwadrat odległości obserwacji od wartości średniej\n",
    "population_df['distance_sq'] = population_df['distance']**2\n",
    "population_df"
   ]
  },
  {
   "cell_type": "code",
   "execution_count": 44,
   "id": "7cc7962d-b350-4b72-bcc4-2d47147af3a8",
   "metadata": {},
   "outputs": [
    {
     "data": {
      "text/plain": [
       "np.float64(2.0)"
      ]
     },
     "execution_count": 44,
     "metadata": {},
     "output_type": "execute_result"
    }
   ],
   "source": [
    "# średni kwadrat odległości\n",
    "mean_distance_sq = population_df['distance_sq'].mean()\n",
    "mean_distance_sq"
   ]
  },
  {
   "cell_type": "markdown",
   "id": "42ee6c29-3a1b-43f6-9646-425572b348a3",
   "metadata": {},
   "source": [
    "Albo po prostu"
   ]
  },
  {
   "cell_type": "code",
   "execution_count": 46,
   "id": "a1990a45-e520-4150-bcdc-0443d1379531",
   "metadata": {},
   "outputs": [
    {
     "data": {
      "text/plain": [
       "np.float64(2.0)"
      ]
     },
     "execution_count": 46,
     "metadata": {},
     "output_type": "execute_result"
    }
   ],
   "source": [
    "# Wariancja, metoda `var`\n",
    "population_df['population'].var(ddof=0)"
   ]
  },
  {
   "cell_type": "markdown",
   "id": "2d2e019f-59dc-46a0-be37-d90590fb9f38",
   "metadata": {},
   "source": [
    "Podsumujmy wywód formułami. Wariancja wyraża się wzorem:\n",
    "\n",
    "- dla populacji\n",
    "$$\\sigma^2 = \\frac{\\sum_{i=1}^{N} (x_i-\\mu)^2}{N}$$\n",
    "\n",
    "- dla próby\n",
    "$$s^2 = \\frac{\\sum_{i=1}^{n} (x_i-\\bar{x})^2}{n-1}$$"
   ]
  },
  {
   "cell_type": "markdown",
   "id": "89491152-b6fd-4f2e-a4c5-0bc04a58de39",
   "metadata": {},
   "source": [
    "Ale zaraz, skąd n-1 w mianowniku w wzorze na wariancję dla próby ?\n",
    "\n",
    "No i tu właśnie wychodzi różnica pomiędzy statystyką na próbie, a parametrem populacji. Ogólnie, żeby wykazać że taki wzór lepiej przybliża wartość parametru populacji należałoby przeprowadzić względnie złożony wywód matematyczny. Nie będziemy przez niego przechodzić. Zadowolimy się wyjaśnieniem intuicyjnym. \n",
    "\n",
    "W populacji zdarzają się wartości odstające. One odstają od całej reszty, co oznacza że musi być ich znacznie mniej. W związku z tym prawdopodbieństwo tego, że znajdą się w naszej próbie jest niewielkie. Ale przecież, te odstające punkty mają duży wpływ na wartość rozproszenia danych w całej populacji. I po to, żeby wartość rozproszenia na próbie lepiej przybliżała wartość rozproszenia na całej populacji, niejako \"sztucznie\" zwiększamy wartość rozproszenia na próbie poprzez zmniejszenie wartości w mianowniku. Zabieg ten nazywany jest czasami korektą Bassela (odjęcie dokładnie 1 od liczebności próby)."
   ]
  },
  {
   "cell_type": "markdown",
   "id": "88c6fe10-2ef0-4235-b1f9-e8a27f39401d",
   "metadata": {},
   "source": [
    "Popatrzmy. \n",
    "\n",
    "Policzmy wariancję przy założeniu, że pracujemy na całej populacji i przy założeniu, że pracujemy na próbie.\n",
    "\n",
    "$$\\sigma^2 = \\frac{4+1+0+1+4}{5} = \\frac{10}{5} = 2$$\n",
    "\n",
    "$$s^2 = \\frac{4+1+0+1+4}{4} = \\frac{10}{4} = 2.5$$\n",
    "\n",
    "Rzeczywiście przy założeniu, że pracujemy na próbie nasze przybliżenie (estymacja) ma większą wartość.\n",
    "\n",
    "Właśnie za to odpowiada parametr `ddof`."
   ]
  },
  {
   "cell_type": "code",
   "execution_count": 47,
   "id": "515e1b1f-a5e3-4440-803c-9e7a383ef126",
   "metadata": {},
   "outputs": [
    {
     "data": {
      "text/plain": [
       "np.float64(2.0)"
      ]
     },
     "execution_count": 47,
     "metadata": {},
     "output_type": "execute_result"
    }
   ],
   "source": [
    "# Wariancja, parametr `ddof` metody `var`\n",
    "population_df['population'].var(ddof=0)"
   ]
  },
  {
   "cell_type": "code",
   "execution_count": 50,
   "id": "13a90ee5-06b1-4097-82d3-9e91b20f2644",
   "metadata": {},
   "outputs": [
    {
     "data": {
      "text/plain": [
       "np.float64(2.5)"
      ]
     },
     "execution_count": 50,
     "metadata": {},
     "output_type": "execute_result"
    }
   ],
   "source": [
    "# Wariancja, parametr `ddof` metody `var`\n",
    "population_df['population'].var(ddof=1)"
   ]
  },
  {
   "cell_type": "markdown",
   "id": "ff2f667d-bbcb-40b7-927e-593d38a0e3ac",
   "metadata": {},
   "source": [
    "Skąd ta nazwa?\n",
    "\n",
    "`ddof` - zmiana stopni swobody (**ang. delta degree of freedom**) jest to wartość którą mamy odjąć w mianowniku. Dla 0 oznacza, że nic nie odejmujemy. Dlaczego stopnie swobody? Chodzi o to, że wariancję liczymy na podstawie średniej. To znaczy zanim przystąpimy do obliczeń wariancji, średnia jest już ustalona, sztywna. Ponieważ średnia próbki jest już wyznaczona, jeden punkt nie może być już swobodnie wybrany — jego wartość jest zależna od pozostałych wartości. W związku z tym rzeczywista liczba swobodnych obserwacji wynosi 𝑛−1, a nie 𝑛."
   ]
  },
  {
   "cell_type": "markdown",
   "id": "4dfa5002-49f0-49e9-9e1a-7e0487ad9920",
   "metadata": {},
   "source": [
    "**Wstęp do teorii estymacji.**\n",
    "\n",
    "Jednym z ważnych działów statystyki jest dział zajmujący się estymacją, czyli przybliżaniem wartości parametru populacji na podstawie wartości statystyki z próbki. W tym dziale posługujemy się terminem estymatora.\n",
    "\n",
    "Statystyka na próbce jest **estymatorem** parametru populacji. Na przykład mówimy, że średnia próbki $\\bar{x}$ jest estymatorem średniej populacji $\\mu$:\n",
    "\n",
    "$$\\bar{x}\\quad \\widehat{=}\\quad \\mu$$\n",
    "\n",
    "Jeżeli ten estymator prawidłowo przybliża nam wartość parametru populacji, taki estymator nazywamy **estymatorem nieobciążonym** (ang. unbiased estimator). Przykładem estymatora nieobciążonego jest właśnie średnia próbki. $\\bar{x}$ jest nieobciążonym estymatore $\\mu$. Jeżeli estymator nieprawidłowo przybliża wartość parametru populacji (systematycznie zaniża lub zawyża wartość parametru) nazywamy go **estymatorem obciążonym** (ang. biased estimator). Przykładem estymatora obciążonego jest estymator wariancji próby bez poprawki Bassela.\n",
    "\n",
    "Wartość jaką zwraca nam estymator nazywamy **estymatą** (ang. estimate).\n",
    "\n",
    "Ale co to znaczy prawidłowo przybliża wartość? W kontekście teorii estymacji oznacz to tyle, że jeżeli weźmiemy wiele prób i policzymy estymaty dla każdej próby i znajdziemy średnią estymatę, to ta średnia estymata będzie zbiegała do wartości estymowanej (czyt. parametru populacji) wraz ze wzrostem liczby prób."
   ]
  },
  {
   "cell_type": "markdown",
   "id": "cb7b4612-b73c-422f-8923-945d76b0c02f",
   "metadata": {},
   "source": [
    "**Ciekawostka**\n",
    "\n",
    "Czy jedynym sposobem na pozbycie się znaku jest użycie kwadratu? \\\n",
    "Oczywiście nie, możemy na przykład policzyć wartość bezwzględną. Ze względu na brak gładkości wartości bezwzględnej w teorii i formułach używa się najczęściej funkcji kwadratowej (która jest gładka). Znacznie ułatwia to zapis formalny. Na poziomie implementacji, punktowy brak różniczkowalność nie stanowi jednak żadnego problemu. Wystarczy wstawić w punkcie osobliowości wartość 0.\n",
    "\n",
    "Które rozwiązanie jest lepsze z punktu widzenia otrzymywanych wartości? \\\n",
    "Kwadrat podbija mocno outliery, czyli przy użyciu kwadratów będziemy bardziej podatni na wpływ wartości odstających. Możemy chcieć uwypuklić wpływ wartości mocno różniących się od średniej, ale równie dobrze możemy tego nie chcieć. Z kolei wartość bezwzględna tłumi wpływ niewielkich odstępstw. Oba rozwiązania mają swoje plusy i minusy. \n",
    "\n",
    "W teorii błędów oba podejścia mają swoje nazwy. W przypadku użycia kwadratów mówimy o średnim błędzie kwadratowym, w przypadku użycia wartości absolutnej wynik nazywamy średnim błędem absolutnym. Mam też hybrydę, którą nazywamy błędem Hubera. "
   ]
  },
  {
   "cell_type": "markdown",
   "id": "d69264af-6362-4922-8e04-c5761a9d24ff",
   "metadata": {},
   "source": [
    "Przejdźmy do kolejnej miary - odchylenie standardowe."
   ]
  },
  {
   "cell_type": "markdown",
   "id": "9828710a-a28d-4c1b-8282-373df1e7184c",
   "metadata": {},
   "source": [
    "#### 2. Standardowe odchylenie\n",
    "\n",
    "Odchylenie standardowe to nic innego jak pierwiastek z wariancji. I tak, odpowiednie formuły mają postać:\n",
    "- dla całej populacji\n",
    "$$\\sigma = \\sqrt{\\sigma^2}$$\n",
    "- dla próby\n",
    "$$s = \\sqrt{s^2}$$"
   ]
  },
  {
   "cell_type": "markdown",
   "id": "a2288858-d3ce-4314-a8e5-0b8bf11235f0",
   "metadata": {},
   "source": [
    "Dla naszego zbioru"
   ]
  },
  {
   "cell_type": "code",
   "execution_count": 51,
   "id": "46d099d0-0916-40e1-a209-0259dda254bb",
   "metadata": {},
   "outputs": [
    {
     "data": {
      "text/html": [
       "<div>\n",
       "<style scoped>\n",
       "    .dataframe tbody tr th:only-of-type {\n",
       "        vertical-align: middle;\n",
       "    }\n",
       "\n",
       "    .dataframe tbody tr th {\n",
       "        vertical-align: top;\n",
       "    }\n",
       "\n",
       "    .dataframe thead th {\n",
       "        text-align: right;\n",
       "    }\n",
       "</style>\n",
       "<table border=\"1\" class=\"dataframe\">\n",
       "  <thead>\n",
       "    <tr style=\"text-align: right;\">\n",
       "      <th></th>\n",
       "      <th>population</th>\n",
       "      <th>distance</th>\n",
       "      <th>distance_sq</th>\n",
       "    </tr>\n",
       "  </thead>\n",
       "  <tbody>\n",
       "    <tr>\n",
       "      <th>0</th>\n",
       "      <td>1</td>\n",
       "      <td>-2.0</td>\n",
       "      <td>4.0</td>\n",
       "    </tr>\n",
       "    <tr>\n",
       "      <th>1</th>\n",
       "      <td>2</td>\n",
       "      <td>-1.0</td>\n",
       "      <td>1.0</td>\n",
       "    </tr>\n",
       "    <tr>\n",
       "      <th>2</th>\n",
       "      <td>3</td>\n",
       "      <td>0.0</td>\n",
       "      <td>0.0</td>\n",
       "    </tr>\n",
       "    <tr>\n",
       "      <th>3</th>\n",
       "      <td>4</td>\n",
       "      <td>1.0</td>\n",
       "      <td>1.0</td>\n",
       "    </tr>\n",
       "    <tr>\n",
       "      <th>4</th>\n",
       "      <td>5</td>\n",
       "      <td>2.0</td>\n",
       "      <td>4.0</td>\n",
       "    </tr>\n",
       "  </tbody>\n",
       "</table>\n",
       "</div>"
      ],
      "text/plain": [
       "   population  distance  distance_sq\n",
       "0           1      -2.0          4.0\n",
       "1           2      -1.0          1.0\n",
       "2           3       0.0          0.0\n",
       "3           4       1.0          1.0\n",
       "4           5       2.0          4.0"
      ]
     },
     "execution_count": 51,
     "metadata": {},
     "output_type": "execute_result"
    }
   ],
   "source": [
    "population_df"
   ]
  },
  {
   "cell_type": "markdown",
   "id": "c83a79a8-0b1a-4e8c-b86b-d9cff19791df",
   "metadata": {},
   "source": [
    "standardowe odchylenie wynosi"
   ]
  },
  {
   "cell_type": "code",
   "execution_count": 52,
   "id": "42780ac2-f1af-4967-a9fe-6e81fc67fe30",
   "metadata": {},
   "outputs": [
    {
     "data": {
      "text/plain": [
       "np.float64(1.4142135623730951)"
      ]
     },
     "execution_count": 52,
     "metadata": {},
     "output_type": "execute_result"
    }
   ],
   "source": [
    "# Standardowe odchylenie\n",
    "population_df['population'].var(ddof=0)**(1/2)"
   ]
  },
  {
   "cell_type": "markdown",
   "id": "863d34cd-3601-40fc-97f3-960f1b0e8e2a",
   "metadata": {},
   "source": [
    "Albo po prostu"
   ]
  },
  {
   "cell_type": "code",
   "execution_count": 53,
   "id": "bb32d20e-e153-4d38-9985-8f4afba7eb00",
   "metadata": {},
   "outputs": [
    {
     "data": {
      "text/plain": [
       "np.float64(1.4142135623730951)"
      ]
     },
     "execution_count": 53,
     "metadata": {},
     "output_type": "execute_result"
    }
   ],
   "source": [
    "# Standardowe odchylenie, metoda `std`\n",
    "population_df['population'].std(ddof=0)"
   ]
  },
  {
   "cell_type": "markdown",
   "id": "0deaef68-16c6-40c5-9046-d940297f3f19",
   "metadata": {},
   "source": [
    "Pytanie, które w tym miejscu się często pojawia to po co wymyślać standardowe odchylenie? Nie wystarczy nam wariancja? Po co tak udziwniać? I odpowiedzią na to pytanie są jednostki.\n",
    "\n",
    "We wzorze na wariancję mamy kwadrat. Przyjmijmy, że mamy zbiór odległości jakie 10 osób przeszło w 10 minut. Odległości mamy podane w metrach."
   ]
  },
  {
   "cell_type": "code",
   "execution_count": 54,
   "id": "6351b024-bff7-40b4-bb1f-1b077aaed4de",
   "metadata": {},
   "outputs": [
    {
     "data": {
      "text/html": [
       "<div>\n",
       "<style scoped>\n",
       "    .dataframe tbody tr th:only-of-type {\n",
       "        vertical-align: middle;\n",
       "    }\n",
       "\n",
       "    .dataframe tbody tr th {\n",
       "        vertical-align: top;\n",
       "    }\n",
       "\n",
       "    .dataframe thead th {\n",
       "        text-align: right;\n",
       "    }\n",
       "</style>\n",
       "<table border=\"1\" class=\"dataframe\">\n",
       "  <thead>\n",
       "    <tr style=\"text-align: right;\">\n",
       "      <th></th>\n",
       "      <th>distances</th>\n",
       "    </tr>\n",
       "  </thead>\n",
       "  <tbody>\n",
       "    <tr>\n",
       "      <th>0</th>\n",
       "      <td>817.07</td>\n",
       "    </tr>\n",
       "    <tr>\n",
       "      <th>1</th>\n",
       "      <td>675.75</td>\n",
       "    </tr>\n",
       "    <tr>\n",
       "      <th>2</th>\n",
       "      <td>733.26</td>\n",
       "    </tr>\n",
       "    <tr>\n",
       "      <th>3</th>\n",
       "      <td>721.34</td>\n",
       "    </tr>\n",
       "    <tr>\n",
       "      <th>4</th>\n",
       "      <td>839.39</td>\n",
       "    </tr>\n",
       "    <tr>\n",
       "      <th>5</th>\n",
       "      <td>825.64</td>\n",
       "    </tr>\n",
       "    <tr>\n",
       "      <th>6</th>\n",
       "      <td>875.20</td>\n",
       "    </tr>\n",
       "    <tr>\n",
       "      <th>7</th>\n",
       "      <td>690.00</td>\n",
       "    </tr>\n",
       "    <tr>\n",
       "      <th>8</th>\n",
       "      <td>767.04</td>\n",
       "    </tr>\n",
       "    <tr>\n",
       "      <th>9</th>\n",
       "      <td>676.85</td>\n",
       "    </tr>\n",
       "  </tbody>\n",
       "</table>\n",
       "</div>"
      ],
      "text/plain": [
       "   distances\n",
       "0     817.07\n",
       "1     675.75\n",
       "2     733.26\n",
       "3     721.34\n",
       "4     839.39\n",
       "5     825.64\n",
       "6     875.20\n",
       "7     690.00\n",
       "8     767.04\n",
       "9     676.85"
      ]
     },
     "execution_count": 54,
     "metadata": {},
     "output_type": "execute_result"
    }
   ],
   "source": [
    "# Generujemy dane\n",
    "import random\n",
    "\n",
    "random.seed(42)\n",
    "\n",
    "data = {\n",
    "    'distances':  [round(random.uniform(670, 900), 2) for _ in range(10)]\n",
    "}\n",
    "distance_df = pd.DataFrame(data)\n",
    "distance_df"
   ]
  },
  {
   "cell_type": "markdown",
   "id": "f25dca47-497e-493f-9d2f-7f1dba8e4b2f",
   "metadata": {},
   "source": [
    "Policzmy średnią"
   ]
  },
  {
   "cell_type": "code",
   "execution_count": 59,
   "id": "a1bca954-1dfe-468a-af5c-4d5b25c22a2f",
   "metadata": {},
   "outputs": [
    {
     "data": {
      "text/plain": [
       "np.float64(762.154)"
      ]
     },
     "execution_count": 59,
     "metadata": {},
     "output_type": "execute_result"
    }
   ],
   "source": [
    "# Średnia\n",
    "mean = distance_df['distances'].mean()\n",
    "mean"
   ]
  },
  {
   "cell_type": "markdown",
   "id": "29a0f22b-4d65-48e1-aa32-fb80380ec9cc",
   "metadata": {},
   "source": [
    "Policzmy wariancję"
   ]
  },
  {
   "cell_type": "code",
   "execution_count": 60,
   "id": "0be646d6-a19e-4d14-8884-02b0360808ca",
   "metadata": {},
   "outputs": [
    {
     "data": {
      "text/plain": [
       "np.float64(4826.417924)"
      ]
     },
     "execution_count": 60,
     "metadata": {},
     "output_type": "execute_result"
    }
   ],
   "source": [
    "# Wariancja\n",
    "var = distance_df['distances'].var(ddof=0)\n",
    "var"
   ]
  },
  {
   "cell_type": "markdown",
   "id": "cad6c022-02e3-42e6-9727-8289f0b66fd9",
   "metadata": {},
   "source": [
    "Średnia: $762 \\text{m}$, wariancja: $4826 \\text{m}^2$. \n",
    "\n",
    "Metrów do kwadratu? Ile to? Jak to się ma do naszych wartości w zbiorze? Średnia $760 \\text{m}$ - ok. Intuicyjnie rozumiemy co to oznacza. Średnio przeszli $760 \\text{m}$. Ale $4826 \\text{m}^2$? Wariancja naszego zbioru to $4826 \\text{m}^2$, czyli ile ? \n",
    "\n",
    "$$762 \\text{m} \\pm 4826 \\text{m}^2$$\n",
    "\n",
    "Co to w ogóle jest? Jakieś pole? Może pole.\n",
    "\n",
    "To może zamiast brać to pole jako miarę rozproszenia, weźmy bok kwadratu, który rozpina to pole. Będziemy mieli te same jednostki. Czyli ... pierwiastek."
   ]
  },
  {
   "cell_type": "code",
   "execution_count": 61,
   "id": "6c378bb4-18a3-4aee-a9c2-f80ce21c0ea8",
   "metadata": {},
   "outputs": [
    {
     "data": {
      "text/plain": [
       "np.float64(69.47242563780252)"
      ]
     },
     "execution_count": 61,
     "metadata": {},
     "output_type": "execute_result"
    }
   ],
   "source": [
    "# Odchylenie standardowe\n",
    "std = distance_df['distances'].std(ddof=0)\n",
    "std"
   ]
  },
  {
   "cell_type": "markdown",
   "id": "2243b48a-b82a-4ca3-ae73-814238e35d14",
   "metadata": {},
   "source": [
    "I teraz:\n",
    "\n",
    "$$\\mu \\pm \\sigma = 762 \\text{m} \\pm 70 \\text{m}$$\n",
    "\n",
    "No i teraz to inna rozmowa. Te same jednostki, widzimy że taki zapis definiuje nam jakiś przedział. Co to za przedział to już trochę inny temat, ale intuicyjnie rozumiemy, że rozproszenie naszych danych jest mniej więcej na poziomie przedziału:\n",
    "\n",
    "$$(762-70, 762+70) = (692, 832)$$\n",
    "\n",
    "To jest całkiem sensowna i intuicyjna miara rozproszenia danych. To właśnie dlatego odchylenie standardowe jest najpopularniejszą miarą rozproszenia danych. Bardzo często wykorzystujemy odchylenie standardowe, żeby oszacować wielkość błędu w otrzymanych wartościach. Robimy obliczenia, oczekujemy otrzymać jakąś wartość. Otrzymujemy różne wartości, mniej lub bardziej zbliżone do tej której oczekujemy. Standardowe odchylenie pomaga nam oszacować jak bardzo mylimy się w naszych obliczeniach."
   ]
  },
  {
   "cell_type": "markdown",
   "id": "91b771c1-c45f-430f-961e-8bcbb20834b5",
   "metadata": {},
   "source": [
    "#### 3. Współczynnik zmienności\n",
    "\n",
    "Współczynnik zmienności aka względne odchylenie standardowe (ang. coefficient of variation (cv) aka relative standard devition) jest równy odchyleniu standardowemu podzielonemu przez średnią. Wyraża się wzorem:\n",
    "\n",
    "- dla populacji\n",
    "$$c_{v} = \\frac{\\sigma}{\\mu}$$\n",
    "\n",
    "- dla próby\n",
    "$$\\quad \\hat{c_{v}} = \\frac{s}{\\bar{x}}$$\n",
    "\n",
    "I jest niczym innym jak standardowym odchyleniem wyrażonym w \"jednostkach średniej\". Czyli miarą rozproszenia odpowiadającą odchyleniu standardowemu wyrażonemu jako część (lub wielokrotność) średniej."
   ]
  },
  {
   "cell_type": "markdown",
   "id": "4ecb97c4-4eb6-4bd8-8ef3-cddfae66c06c",
   "metadata": {},
   "source": [
    "W naszym przypadku:\n",
    "\n",
    "$$\\sigma = 70$$\n",
    "$$\\mu = 763$$\n",
    "\n",
    "Zatem\n",
    "\n",
    "$$c_v = \\frac{\\sigma}{\\mu} = \\frac{70}{763} = 0.09$$"
   ]
  },
  {
   "cell_type": "code",
   "execution_count": 62,
   "id": "90263472-585b-413a-b32f-ffcf63157fd6",
   "metadata": {},
   "outputs": [
    {
     "data": {
      "text/plain": [
       "np.float64(0.09115274030944208)"
      ]
     },
     "execution_count": 62,
     "metadata": {},
     "output_type": "execute_result"
    }
   ],
   "source": [
    "# Współczynnik zmienności\n",
    "vc = std/mean\n",
    "vc"
   ]
  },
  {
   "cell_type": "markdown",
   "id": "02f39afc-7b7d-49c6-b25d-be23812b4bba",
   "metadata": {},
   "source": [
    "Odchylenie standardowe jest świetną miarą rozproszenia pojedynczego zbioru. Nie sprawdza się jednak przy porównywaniu zmienności dwóch różnych zbiorów.\n",
    "\n",
    "No bo spójrz. Wydaje się być trochę czymś innym sytuacja, w której średnia wynosi 2 a standardowe odchylenie 3, a innym sytuacja w której średnia wynosi 1680, a standardowe odchylenie 3. W związku z tym porównywanie odchyleń standardowych dwóch różnych zbiorów nie ma większego sensu. Standardowe odchylenie nie pozwoli nam w sposób wiarygodny porównać stopnia rozproszenia tych dwóch, różnych zbiorów. W tym miejscu sprawdza się natomiast świetnie współczynnik zmienności."
   ]
  },
  {
   "cell_type": "markdown",
   "id": "f2dc6bc4-f9b8-48bc-80f6-37acc585e9ab",
   "metadata": {},
   "source": [
    "### Przykład"
   ]
  },
  {
   "cell_type": "markdown",
   "id": "2d04e8bd-0d6f-4281-93b4-cd4990eb7d43",
   "metadata": {},
   "source": [
    "Wróćmy do przykładu z pizzami."
   ]
  },
  {
   "cell_type": "code",
   "execution_count": 63,
   "id": "6a9af14a-659b-4c5a-8d5c-4cb2c092edfe",
   "metadata": {},
   "outputs": [
    {
     "data": {
      "text/html": [
       "<div>\n",
       "<style scoped>\n",
       "    .dataframe tbody tr th:only-of-type {\n",
       "        vertical-align: middle;\n",
       "    }\n",
       "\n",
       "    .dataframe tbody tr th {\n",
       "        vertical-align: top;\n",
       "    }\n",
       "\n",
       "    .dataframe thead th {\n",
       "        text-align: right;\n",
       "    }\n",
       "</style>\n",
       "<table border=\"1\" class=\"dataframe\">\n",
       "  <thead>\n",
       "    <tr style=\"text-align: right;\">\n",
       "      <th></th>\n",
       "      <th>Warszawa</th>\n",
       "      <th>Krakow</th>\n",
       "      <th>Warszawa_sorted</th>\n",
       "      <th>Krakow_sorted</th>\n",
       "    </tr>\n",
       "  </thead>\n",
       "  <tbody>\n",
       "    <tr>\n",
       "      <th>0</th>\n",
       "      <td>20.0</td>\n",
       "      <td>20.0</td>\n",
       "      <td>20.0</td>\n",
       "      <td>20.0</td>\n",
       "    </tr>\n",
       "    <tr>\n",
       "      <th>1</th>\n",
       "      <td>25.0</td>\n",
       "      <td>25.0</td>\n",
       "      <td>25.0</td>\n",
       "      <td>25.0</td>\n",
       "    </tr>\n",
       "    <tr>\n",
       "      <th>2</th>\n",
       "      <td>30.0</td>\n",
       "      <td>30.0</td>\n",
       "      <td>30.0</td>\n",
       "      <td>30.0</td>\n",
       "    </tr>\n",
       "    <tr>\n",
       "      <th>3</th>\n",
       "      <td>30.0</td>\n",
       "      <td>35.0</td>\n",
       "      <td>30.0</td>\n",
       "      <td>35.0</td>\n",
       "    </tr>\n",
       "    <tr>\n",
       "      <th>4</th>\n",
       "      <td>40.0</td>\n",
       "      <td>40.0</td>\n",
       "      <td>40.0</td>\n",
       "      <td>40.0</td>\n",
       "    </tr>\n",
       "    <tr>\n",
       "      <th>5</th>\n",
       "      <td>45.0</td>\n",
       "      <td>45.0</td>\n",
       "      <td>45.0</td>\n",
       "      <td>45.0</td>\n",
       "    </tr>\n",
       "    <tr>\n",
       "      <th>6</th>\n",
       "      <td>50.0</td>\n",
       "      <td>50.0</td>\n",
       "      <td>50.0</td>\n",
       "      <td>50.0</td>\n",
       "    </tr>\n",
       "    <tr>\n",
       "      <th>7</th>\n",
       "      <td>55.0</td>\n",
       "      <td>55.0</td>\n",
       "      <td>55.0</td>\n",
       "      <td>55.0</td>\n",
       "    </tr>\n",
       "    <tr>\n",
       "      <th>8</th>\n",
       "      <td>60.0</td>\n",
       "      <td>60.0</td>\n",
       "      <td>60.0</td>\n",
       "      <td>60.0</td>\n",
       "    </tr>\n",
       "    <tr>\n",
       "      <th>9</th>\n",
       "      <td>65.0</td>\n",
       "      <td>65.0</td>\n",
       "      <td>65.0</td>\n",
       "      <td>65.0</td>\n",
       "    </tr>\n",
       "    <tr>\n",
       "      <th>10</th>\n",
       "      <td>75.0</td>\n",
       "      <td>70.0</td>\n",
       "      <td>75.0</td>\n",
       "      <td>70.0</td>\n",
       "    </tr>\n",
       "    <tr>\n",
       "      <th>11</th>\n",
       "      <td>500.0</td>\n",
       "      <td>NaN</td>\n",
       "      <td>500.0</td>\n",
       "      <td>NaN</td>\n",
       "    </tr>\n",
       "  </tbody>\n",
       "</table>\n",
       "</div>"
      ],
      "text/plain": [
       "    Warszawa  Krakow  Warszawa_sorted  Krakow_sorted\n",
       "0       20.0    20.0             20.0           20.0\n",
       "1       25.0    25.0             25.0           25.0\n",
       "2       30.0    30.0             30.0           30.0\n",
       "3       30.0    35.0             30.0           35.0\n",
       "4       40.0    40.0             40.0           40.0\n",
       "5       45.0    45.0             45.0           45.0\n",
       "6       50.0    50.0             50.0           50.0\n",
       "7       55.0    55.0             55.0           55.0\n",
       "8       60.0    60.0             60.0           60.0\n",
       "9       65.0    65.0             65.0           65.0\n",
       "10      75.0    70.0             75.0           70.0\n",
       "11     500.0     NaN            500.0            NaN"
      ]
     },
     "execution_count": 63,
     "metadata": {},
     "output_type": "execute_result"
    }
   ],
   "source": [
    "# Dane o pizzach\n",
    "pizza_df"
   ]
  },
  {
   "cell_type": "markdown",
   "id": "2f450506-48b3-47ab-9997-e5b585a32b20",
   "metadata": {},
   "source": [
    "Skupmy się na warszawskich pizzeriach."
   ]
  },
  {
   "cell_type": "code",
   "execution_count": 65,
   "id": "b0345196-2282-46fa-918f-e1f08f376bd8",
   "metadata": {},
   "outputs": [
    {
     "data": {
      "text/plain": [
       "0      20.0\n",
       "1      25.0\n",
       "2      30.0\n",
       "3      30.0\n",
       "4      40.0\n",
       "5      45.0\n",
       "6      50.0\n",
       "7      55.0\n",
       "8      60.0\n",
       "9      65.0\n",
       "10     75.0\n",
       "11    500.0\n",
       "Name: Warszawa, dtype: float64"
      ]
     },
     "execution_count": 65,
     "metadata": {},
     "output_type": "execute_result"
    }
   ],
   "source": [
    "# Warszawskie pizze\n",
    "warsaw_pizza_zl = pizza_df[\"Warszawa\"]\n",
    "warsaw_pizza_zl"
   ]
  },
  {
   "cell_type": "markdown",
   "id": "57963c17-c5d8-4508-bf8c-e85f6fa5313f",
   "metadata": {},
   "source": [
    "Powiedzmy, że chcemy też przechowywać informacje o cenie pizzy w jenach. Na dzień 08.11.2024 przelicznik wynosi 1zł = 38yen. Zatem:"
   ]
  },
  {
   "cell_type": "code",
   "execution_count": 66,
   "id": "fa0da94b-61eb-4f44-8459-3811519b5e49",
   "metadata": {},
   "outputs": [
    {
     "data": {
      "text/plain": [
       "0       760.0\n",
       "1       950.0\n",
       "2      1140.0\n",
       "3      1140.0\n",
       "4      1520.0\n",
       "5      1710.0\n",
       "6      1900.0\n",
       "7      2090.0\n",
       "8      2280.0\n",
       "9      2470.0\n",
       "10     2850.0\n",
       "11    19000.0\n",
       "Name: Warszawa, dtype: float64"
      ]
     },
     "execution_count": 66,
     "metadata": {},
     "output_type": "execute_result"
    }
   ],
   "source": [
    "# Warszawskie ceny pizz w jenach\n",
    "warsaw_pizza_yen = warsaw_pizza_zl * 38\n",
    "warsaw_pizza_yen"
   ]
  },
  {
   "cell_type": "code",
   "execution_count": 68,
   "id": "07ca8974-bd3b-4b2a-bc00-497b7bea8097",
   "metadata": {},
   "outputs": [
    {
     "data": {
      "text/html": [
       "<div>\n",
       "<style scoped>\n",
       "    .dataframe tbody tr th:only-of-type {\n",
       "        vertical-align: middle;\n",
       "    }\n",
       "\n",
       "    .dataframe tbody tr th {\n",
       "        vertical-align: top;\n",
       "    }\n",
       "\n",
       "    .dataframe thead th {\n",
       "        text-align: right;\n",
       "    }\n",
       "</style>\n",
       "<table border=\"1\" class=\"dataframe\">\n",
       "  <thead>\n",
       "    <tr style=\"text-align: right;\">\n",
       "      <th></th>\n",
       "      <th>zl</th>\n",
       "      <th>yen</th>\n",
       "    </tr>\n",
       "  </thead>\n",
       "  <tbody>\n",
       "    <tr>\n",
       "      <th>0</th>\n",
       "      <td>20.0</td>\n",
       "      <td>760.0</td>\n",
       "    </tr>\n",
       "    <tr>\n",
       "      <th>1</th>\n",
       "      <td>25.0</td>\n",
       "      <td>950.0</td>\n",
       "    </tr>\n",
       "    <tr>\n",
       "      <th>2</th>\n",
       "      <td>30.0</td>\n",
       "      <td>1140.0</td>\n",
       "    </tr>\n",
       "    <tr>\n",
       "      <th>3</th>\n",
       "      <td>30.0</td>\n",
       "      <td>1140.0</td>\n",
       "    </tr>\n",
       "    <tr>\n",
       "      <th>4</th>\n",
       "      <td>40.0</td>\n",
       "      <td>1520.0</td>\n",
       "    </tr>\n",
       "    <tr>\n",
       "      <th>5</th>\n",
       "      <td>45.0</td>\n",
       "      <td>1710.0</td>\n",
       "    </tr>\n",
       "    <tr>\n",
       "      <th>6</th>\n",
       "      <td>50.0</td>\n",
       "      <td>1900.0</td>\n",
       "    </tr>\n",
       "    <tr>\n",
       "      <th>7</th>\n",
       "      <td>55.0</td>\n",
       "      <td>2090.0</td>\n",
       "    </tr>\n",
       "    <tr>\n",
       "      <th>8</th>\n",
       "      <td>60.0</td>\n",
       "      <td>2280.0</td>\n",
       "    </tr>\n",
       "    <tr>\n",
       "      <th>9</th>\n",
       "      <td>65.0</td>\n",
       "      <td>2470.0</td>\n",
       "    </tr>\n",
       "    <tr>\n",
       "      <th>10</th>\n",
       "      <td>75.0</td>\n",
       "      <td>2850.0</td>\n",
       "    </tr>\n",
       "    <tr>\n",
       "      <th>11</th>\n",
       "      <td>500.0</td>\n",
       "      <td>19000.0</td>\n",
       "    </tr>\n",
       "  </tbody>\n",
       "</table>\n",
       "</div>"
      ],
      "text/plain": [
       "       zl      yen\n",
       "0    20.0    760.0\n",
       "1    25.0    950.0\n",
       "2    30.0   1140.0\n",
       "3    30.0   1140.0\n",
       "4    40.0   1520.0\n",
       "5    45.0   1710.0\n",
       "6    50.0   1900.0\n",
       "7    55.0   2090.0\n",
       "8    60.0   2280.0\n",
       "9    65.0   2470.0\n",
       "10   75.0   2850.0\n",
       "11  500.0  19000.0"
      ]
     },
     "execution_count": 68,
     "metadata": {},
     "output_type": "execute_result"
    }
   ],
   "source": [
    "# Ramka z cenami warszawskich cen\n",
    "warsaw_pizza_df = pd.DataFrame({\n",
    "    \"zl\": warsaw_pizza_zl,\n",
    "    \"yen\": warsaw_pizza_yen\n",
    "})\n",
    "warsaw_pizza_df"
   ]
  },
  {
   "cell_type": "markdown",
   "id": "d1288704-63db-4336-9d79-362da605d551",
   "metadata": {},
   "source": [
    "Znajdźmy teraz standardowe odchylenia obu tych zbiorów."
   ]
  },
  {
   "cell_type": "code",
   "execution_count": 70,
   "id": "0f515380-b276-40f8-81f3-8e09f5ff3536",
   "metadata": {},
   "outputs": [
    {
     "data": {
      "text/plain": [
       "np.float64(132.43280171353686)"
      ]
     },
     "execution_count": 70,
     "metadata": {},
     "output_type": "execute_result"
    }
   ],
   "source": [
    "# Standardowe odchylenie warszawskich cen w złotówkach\n",
    "std_zl = warsaw_pizza_df['zl'].std(ddof=1)\n",
    "std_zl"
   ]
  },
  {
   "cell_type": "code",
   "execution_count": 72,
   "id": "807bb4e1-60e9-43b0-ac15-c5edba20f993",
   "metadata": {},
   "outputs": [
    {
     "data": {
      "text/plain": [
       "np.float64(5032.446465114401)"
      ]
     },
     "execution_count": 72,
     "metadata": {},
     "output_type": "execute_result"
    }
   ],
   "source": [
    "# Standardowe odchylenie warszawskich cen w jenach\n",
    "std_yen = warsaw_pizza_df['yen'].std()  # wartość domyślna ddof=1\n",
    "std_yen"
   ]
  },
  {
   "cell_type": "markdown",
   "id": "fcdf7935-afca-4f3f-9d33-e14f74dd057e",
   "metadata": {},
   "source": [
    "Odchylenia wydają się ogromnie różnić między sobą mimo, że mamy do czynienia z tym samymi danymi."
   ]
  },
  {
   "cell_type": "markdown",
   "id": "6863b62e-4ab6-469f-ac29-ce1433db44ff",
   "metadata": {},
   "source": [
    "A współczynniki zmienności (relatywne odchylenia standardowe) ?"
   ]
  },
  {
   "cell_type": "code",
   "execution_count": 73,
   "id": "bfeec76f-050f-4308-8c31-93a07916a72d",
   "metadata": {},
   "outputs": [
    {
     "data": {
      "text/plain": [
       "np.float64(1.5971795181532082)"
      ]
     },
     "execution_count": 73,
     "metadata": {},
     "output_type": "execute_result"
    }
   ],
   "source": [
    "# Współczynnik zmienności warszawskich cen w złotówkach\n",
    "std_zl / warsaw_pizza_df['zl'].mean()"
   ]
  },
  {
   "cell_type": "code",
   "execution_count": 74,
   "id": "0a1fa22a-b1dd-42e8-b391-56e81ad65125",
   "metadata": {},
   "outputs": [
    {
     "data": {
      "text/plain": [
       "np.float64(1.5971795181532082)"
      ]
     },
     "execution_count": 74,
     "metadata": {},
     "output_type": "execute_result"
    }
   ],
   "source": [
    "# Współczynnik zmienności warszawskich cen w jenach\n",
    "std_yen / warsaw_pizza_df['yen'].mean()"
   ]
  },
  {
   "cell_type": "markdown",
   "id": "51a8f68b-829b-4c7f-b243-e91dce9dcd2e",
   "metadata": {},
   "source": [
    "Są identyczne!\n",
    "\n",
    "To pokazuje ogromną zaletę, jaką daje współczynnik zmienności. Teraz możemy z pełnym przekonaniem stwierdzić, że oba zbiory danych mają taką samą zmienność."
   ]
  },
  {
   "cell_type": "markdown",
   "id": "02d82e40-468b-435c-9cb8-285ad6cf00a2",
   "metadata": {},
   "source": [
    "**Pytanie 1**\n",
    "\n",
    "Janek chciał dowiedzieć się, ile dni w tygodniu ludzie w jego klasie ćwiczą, więc zapytał 3 swoich kolegów. Odpowiedzi, które otrzymał to 1, 3 i 5. Na podstawie tych odpowiedzi, które z poniższych stwierdzeń jest prawdziwe w odniesieniu do wyników, które uzyskał Janek?\n",
    "\n",
    "Wskazówka: Czy liczby [1, 3, 5] reprezentują populację, czy próbę?\n",
    "\n",
    "A. $\\mu=3 \\quad \\sigma=2$ \\\n",
    "B. $\\bar{x}=3 \\quad \\sigma=-2$ \\\n",
    "C. $\\bar{x}=3 \\quad s=2$ \\\n",
    "D. $\\bar{x}=3 \\quad s=4$"
   ]
  },
  {
   "cell_type": "markdown",
   "id": "298a1bb3-21a4-4071-81de-0f2e4de2ec3d",
   "metadata": {},
   "source": [
    "Poznaliśmy trzy miary zmienności zbioru:\n",
    "- wariancję\n",
    "- standardowe odchylenie\n",
    "- współczynniki zmienności\n",
    "\n",
    "Każdy z nich ma różne zalety i zastosowania. Powinieneś czuć się pewnie, korzystając ze wszystkich. Przejdźmy do trzeciego typu miar - miar asymetryczności zbioru."
   ]
  },
  {
   "cell_type": "markdown",
   "id": "71eb18bd-0bb0-4e6f-b43d-3c56b0db580d",
   "metadata": {},
   "source": [
    "### 3. Miary asymetrii\n",
    "\n",
    "Najpopularniejszymi miarami asymetrii zbioru są skośność (**ang. skew**) i kurtoza (**ang. kurtozis**). Skupmy się na pierwszej. "
   ]
  },
  {
   "cell_type": "markdown",
   "id": "5fff4d9b-c453-4e64-ad0f-5d545c192ba0",
   "metadata": {},
   "source": [
    "#### Skośność\n",
    "\n",
    "Skośność wyraża się wzorem:\n",
    "\n",
    "- dla populacji\n",
    "$$\n",
    "A = \\frac{1}{N}\\cdot \\Bigg(\\sum_{i=1}^{N} \\frac{x_i - \\mu}{\\sigma}\\Bigg)^3\n",
    "$$\n",
    "\n",
    "- dla próbki\n",
    "$$\n",
    "A = \\frac{\\frac{1}{n} \\sum_{i=1}^{n} (x_i - \\bar{x})^3}{\\sqrt{\\frac{1}{n-1}\\sum_{i=1}^{n}(x_i-\\bar{x})^2}^3}\n",
    "$$"
   ]
  },
  {
   "cell_type": "markdown",
   "id": "8b3c2c47-3d61-42c0-8e01-d5006cb37736",
   "metadata": {},
   "source": [
    "Nie będziemy ręcznie liczyć wartości współczynnika skośności. Obecnie, praktycznie zawsze używa się do tego jakiegoś programu. W zależności od wartości współczynnika dane nazywamy:\n",
    "- danymi ze skośnością lewostronną, w skrócie lewoskrętnymi (**ang. left skew aka negative skew**), jeżeli A < 0 (oznacza to, że wartości skoncentrowane są bardziej na lewo od wartości centralnej)\n",
    "- danymi ze skośnością zerową, w skrócie zeroskrętnymi (**ang. zero skew**), jeżeli A=0 (oznacza to, że dane są rozłożone symetrycznie)\n",
    "- danymi ze skośnością prawoskrętną, w skrócie prawoskrętnymi (**ang. right skew aka positive skew**), jeżeli A > 0 (ozncza to, że dane są bardziej skoncentrowane na prawo od wartości centralnej)"
   ]
  },
  {
   "cell_type": "markdown",
   "id": "dd58f28b-a7dd-47d7-9ec3-1cfa539eac21",
   "metadata": {},
   "source": [
    "Najlepiej zobaczyć to na przykładzie."
   ]
  },
  {
   "cell_type": "markdown",
   "id": "0f9b87ba-ad04-417f-9cc6-fc1172689a91",
   "metadata": {},
   "source": [
    "Przyjmijmy trzy zbiory danych."
   ]
  },
  {
   "cell_type": "code",
   "execution_count": 76,
   "id": "f0b4a101-5b42-43dd-9bb8-00babd1fc988",
   "metadata": {},
   "outputs": [],
   "source": [
    "# 3 zestawy danych\n",
    "\n",
    "# dane lewoskrętne\n",
    "data_left_skewed = [\n",
    "    1, 1, 1,\n",
    "    2, 2, 2,\n",
    "    3, 3, 3, 3,\n",
    "    4, 4, 4, 4, 4,\n",
    "    5, 5, 5, 5, 5, 5, \n",
    "    6, 6, 6, 6, 6, 6, 6,\n",
    "    7, 7, 7, 7, 7, 7, 7, 7,\n",
    "    8, 8, 8, 8, 8, 8, 8, 8, 8,\n",
    "    9, 9,\n",
    "    11\n",
    "]\n",
    "\n",
    "# dane zeroskrętne\n",
    "data_zero_skewed = [\n",
    "    1, 1,\n",
    "    2, 2,\n",
    "    3, 3, 3,\n",
    "    4, 4, 4, 4, 4,\n",
    "    5, 5, 5,\n",
    "    6, 6,\n",
    "    7, 7\n",
    "]\n",
    "\n",
    "# dane prawoskrętne\n",
    "data_right_skewed = [\n",
    "    4,\n",
    "    5, 5, 5, 5,\n",
    "    6, 6, 6, 6, 6, 6,\n",
    "    7, 7, 7, 7,\n",
    "    8, 8, 8,\n",
    "    9, 9,\n",
    "    10,\n",
    "    11\n",
    "]"
   ]
  },
  {
   "cell_type": "markdown",
   "id": "a8fc85e0-1ad6-45a0-b1a4-169812f9aaa5",
   "metadata": {},
   "source": [
    "##### Dane lewoskrętne\n",
    "\n",
    "W danych lewoskrętnych wartości gromadzą się na lewo od wartości centralnej. W wyniku tego po lewej stronie jest więcej wartości, lewy ogon jest cięży, wartości po lewej \"ciągną\" podatne miary na lewo. Średnia jako miara najbaridziej podatna ma wartość najmniejszą, mediana jest większa, a największa jest domiananta (mean < median < mode)."
   ]
  },
  {
   "cell_type": "code",
   "execution_count": 77,
   "id": "89be8fd4-b0be-4831-a2d5-2849f258c51c",
   "metadata": {
    "scrolled": true
   },
   "outputs": [
    {
     "data": {
      "text/html": [
       "<div>\n",
       "<style scoped>\n",
       "    .dataframe tbody tr th:only-of-type {\n",
       "        vertical-align: middle;\n",
       "    }\n",
       "\n",
       "    .dataframe tbody tr th {\n",
       "        vertical-align: top;\n",
       "    }\n",
       "\n",
       "    .dataframe thead th {\n",
       "        text-align: right;\n",
       "    }\n",
       "</style>\n",
       "<table border=\"1\" class=\"dataframe\">\n",
       "  <thead>\n",
       "    <tr style=\"text-align: right;\">\n",
       "      <th></th>\n",
       "      <th>0</th>\n",
       "    </tr>\n",
       "  </thead>\n",
       "  <tbody>\n",
       "    <tr>\n",
       "      <th>0</th>\n",
       "      <td>1</td>\n",
       "    </tr>\n",
       "    <tr>\n",
       "      <th>1</th>\n",
       "      <td>1</td>\n",
       "    </tr>\n",
       "    <tr>\n",
       "      <th>2</th>\n",
       "      <td>1</td>\n",
       "    </tr>\n",
       "    <tr>\n",
       "      <th>3</th>\n",
       "      <td>2</td>\n",
       "    </tr>\n",
       "    <tr>\n",
       "      <th>4</th>\n",
       "      <td>2</td>\n",
       "    </tr>\n",
       "    <tr>\n",
       "      <th>5</th>\n",
       "      <td>2</td>\n",
       "    </tr>\n",
       "    <tr>\n",
       "      <th>6</th>\n",
       "      <td>3</td>\n",
       "    </tr>\n",
       "    <tr>\n",
       "      <th>7</th>\n",
       "      <td>3</td>\n",
       "    </tr>\n",
       "    <tr>\n",
       "      <th>8</th>\n",
       "      <td>3</td>\n",
       "    </tr>\n",
       "    <tr>\n",
       "      <th>9</th>\n",
       "      <td>3</td>\n",
       "    </tr>\n",
       "    <tr>\n",
       "      <th>10</th>\n",
       "      <td>4</td>\n",
       "    </tr>\n",
       "    <tr>\n",
       "      <th>11</th>\n",
       "      <td>4</td>\n",
       "    </tr>\n",
       "    <tr>\n",
       "      <th>12</th>\n",
       "      <td>4</td>\n",
       "    </tr>\n",
       "    <tr>\n",
       "      <th>13</th>\n",
       "      <td>4</td>\n",
       "    </tr>\n",
       "    <tr>\n",
       "      <th>14</th>\n",
       "      <td>4</td>\n",
       "    </tr>\n",
       "    <tr>\n",
       "      <th>15</th>\n",
       "      <td>5</td>\n",
       "    </tr>\n",
       "    <tr>\n",
       "      <th>16</th>\n",
       "      <td>5</td>\n",
       "    </tr>\n",
       "    <tr>\n",
       "      <th>17</th>\n",
       "      <td>5</td>\n",
       "    </tr>\n",
       "    <tr>\n",
       "      <th>18</th>\n",
       "      <td>5</td>\n",
       "    </tr>\n",
       "    <tr>\n",
       "      <th>19</th>\n",
       "      <td>5</td>\n",
       "    </tr>\n",
       "    <tr>\n",
       "      <th>20</th>\n",
       "      <td>5</td>\n",
       "    </tr>\n",
       "    <tr>\n",
       "      <th>21</th>\n",
       "      <td>6</td>\n",
       "    </tr>\n",
       "    <tr>\n",
       "      <th>22</th>\n",
       "      <td>6</td>\n",
       "    </tr>\n",
       "    <tr>\n",
       "      <th>23</th>\n",
       "      <td>6</td>\n",
       "    </tr>\n",
       "    <tr>\n",
       "      <th>24</th>\n",
       "      <td>6</td>\n",
       "    </tr>\n",
       "    <tr>\n",
       "      <th>25</th>\n",
       "      <td>6</td>\n",
       "    </tr>\n",
       "    <tr>\n",
       "      <th>26</th>\n",
       "      <td>6</td>\n",
       "    </tr>\n",
       "    <tr>\n",
       "      <th>27</th>\n",
       "      <td>6</td>\n",
       "    </tr>\n",
       "    <tr>\n",
       "      <th>28</th>\n",
       "      <td>7</td>\n",
       "    </tr>\n",
       "    <tr>\n",
       "      <th>29</th>\n",
       "      <td>7</td>\n",
       "    </tr>\n",
       "    <tr>\n",
       "      <th>30</th>\n",
       "      <td>7</td>\n",
       "    </tr>\n",
       "    <tr>\n",
       "      <th>31</th>\n",
       "      <td>7</td>\n",
       "    </tr>\n",
       "    <tr>\n",
       "      <th>32</th>\n",
       "      <td>7</td>\n",
       "    </tr>\n",
       "    <tr>\n",
       "      <th>33</th>\n",
       "      <td>7</td>\n",
       "    </tr>\n",
       "    <tr>\n",
       "      <th>34</th>\n",
       "      <td>7</td>\n",
       "    </tr>\n",
       "    <tr>\n",
       "      <th>35</th>\n",
       "      <td>7</td>\n",
       "    </tr>\n",
       "    <tr>\n",
       "      <th>36</th>\n",
       "      <td>8</td>\n",
       "    </tr>\n",
       "    <tr>\n",
       "      <th>37</th>\n",
       "      <td>8</td>\n",
       "    </tr>\n",
       "    <tr>\n",
       "      <th>38</th>\n",
       "      <td>8</td>\n",
       "    </tr>\n",
       "    <tr>\n",
       "      <th>39</th>\n",
       "      <td>8</td>\n",
       "    </tr>\n",
       "    <tr>\n",
       "      <th>40</th>\n",
       "      <td>8</td>\n",
       "    </tr>\n",
       "    <tr>\n",
       "      <th>41</th>\n",
       "      <td>8</td>\n",
       "    </tr>\n",
       "    <tr>\n",
       "      <th>42</th>\n",
       "      <td>8</td>\n",
       "    </tr>\n",
       "    <tr>\n",
       "      <th>43</th>\n",
       "      <td>8</td>\n",
       "    </tr>\n",
       "    <tr>\n",
       "      <th>44</th>\n",
       "      <td>8</td>\n",
       "    </tr>\n",
       "    <tr>\n",
       "      <th>45</th>\n",
       "      <td>9</td>\n",
       "    </tr>\n",
       "    <tr>\n",
       "      <th>46</th>\n",
       "      <td>9</td>\n",
       "    </tr>\n",
       "    <tr>\n",
       "      <th>47</th>\n",
       "      <td>11</td>\n",
       "    </tr>\n",
       "  </tbody>\n",
       "</table>\n",
       "</div>"
      ],
      "text/plain": [
       "     0\n",
       "0    1\n",
       "1    1\n",
       "2    1\n",
       "3    2\n",
       "4    2\n",
       "5    2\n",
       "6    3\n",
       "7    3\n",
       "8    3\n",
       "9    3\n",
       "10   4\n",
       "11   4\n",
       "12   4\n",
       "13   4\n",
       "14   4\n",
       "15   5\n",
       "16   5\n",
       "17   5\n",
       "18   5\n",
       "19   5\n",
       "20   5\n",
       "21   6\n",
       "22   6\n",
       "23   6\n",
       "24   6\n",
       "25   6\n",
       "26   6\n",
       "27   6\n",
       "28   7\n",
       "29   7\n",
       "30   7\n",
       "31   7\n",
       "32   7\n",
       "33   7\n",
       "34   7\n",
       "35   7\n",
       "36   8\n",
       "37   8\n",
       "38   8\n",
       "39   8\n",
       "40   8\n",
       "41   8\n",
       "42   8\n",
       "43   8\n",
       "44   8\n",
       "45   9\n",
       "46   9\n",
       "47  11"
      ]
     },
     "execution_count": 77,
     "metadata": {},
     "output_type": "execute_result"
    }
   ],
   "source": [
    "# Ramka z danymi lewoskrętnymi\n",
    "left_skewed_df = pd.DataFrame(data_left_skewed)\n",
    "left_skewed_df"
   ]
  },
  {
   "cell_type": "code",
   "execution_count": 78,
   "id": "381e41ce-8fbe-45d7-a5d8-18c219b715eb",
   "metadata": {},
   "outputs": [
    {
     "data": {
      "text/plain": [
       "<Axes: xlabel='0'>"
      ]
     },
     "execution_count": 78,
     "metadata": {},
     "output_type": "execute_result"
    },
    {
     "data": {
      "image/png": "[encoded data removed]",
      "text/plain": [
       "<Figure size 640x480 with 1 Axes>"
      ]
     },
     "metadata": {},
     "output_type": "display_data"
    }
   ],
   "source": [
    "# Wykres danych lewoskrętnych\n",
    "left_skewed_df[0].value_counts().sort_index().plot(kind='bar')"
   ]
  },
  {
   "cell_type": "markdown",
   "id": "b13ef4d2-47db-41b5-befe-dad7f645fada",
   "metadata": {},
   "source": [
    "Policzmy miary centralne."
   ]
  },
  {
   "cell_type": "code",
   "execution_count": 79,
   "id": "5fb6c9e1-89ca-41e6-b207-8713c6b40434",
   "metadata": {},
   "outputs": [
    {
     "data": {
      "text/plain": [
       "np.float64(5.625)"
      ]
     },
     "execution_count": 79,
     "metadata": {},
     "output_type": "execute_result"
    }
   ],
   "source": [
    "# Średnia danych lewoskrętnych\n",
    "mean = left_skewed_df[0].mean()\n",
    "mean"
   ]
  },
  {
   "cell_type": "code",
   "execution_count": 80,
   "id": "63f830cf-c5c8-4007-96a7-2eda4a56b744",
   "metadata": {},
   "outputs": [
    {
     "data": {
      "text/plain": [
       "np.float64(6.0)"
      ]
     },
     "execution_count": 80,
     "metadata": {},
     "output_type": "execute_result"
    }
   ],
   "source": [
    "# Mediana danych lewoskrętnych\n",
    "median = left_skewed_df[0].median()\n",
    "median"
   ]
  },
  {
   "cell_type": "code",
   "execution_count": 81,
   "id": "5fa7c8f7-76d2-449c-b64a-b628013f20a3",
   "metadata": {},
   "outputs": [
    {
     "data": {
      "text/plain": [
       "np.int64(8)"
      ]
     },
     "execution_count": 81,
     "metadata": {},
     "output_type": "execute_result"
    }
   ],
   "source": [
    "# Dominanta danych lewoskrętnych\n",
    "mode = left_skewed_df[0].mode()[0]\n",
    "mode"
   ]
  },
  {
   "cell_type": "markdown",
   "id": "5351e4e9-5ff5-44f0-ad3d-e0e9563dc457",
   "metadata": {},
   "source": [
    "I nanieśmy miary na nasz wykres."
   ]
  },
  {
   "cell_type": "code",
   "execution_count": 87,
   "id": "2a0e7a8f-585a-4efb-8651-9a6bde3aed61",
   "metadata": {},
   "outputs": [
    {
     "data": {
      "image/png": "[encoded data removed]",
      "text/plain": [
       "<Figure size 640x480 with 1 Axes>"
      ]
     },
     "metadata": {},
     "output_type": "display_data"
    }
   ],
   "source": [
    "# Wykres z naniesionymi statystykami\n",
    "import matplotlib.pyplot as plt\n",
    "\n",
    "value_counts = left_skewed_df[0].value_counts().sort_index()\n",
    "\n",
    "fig, ax = plt.subplots()\n",
    "ax.bar(value_counts.index, value_counts.values);\n",
    "\n",
    "ax.axvline(x=mode, color='y', linestyle='--', label=f\"Dominanta: {mode}\");\n",
    "ax.axvline(x=median, color='r', linestyle='--', label=f\"Mediana: {median}\");\n",
    "ax.axvline(x=mean, color='b', linestyle='--', label=f\"Średnia: {mean}\");\n",
    "ax.legend();"
   ]
  },
  {
   "cell_type": "markdown",
   "id": "d26e180e-264c-4609-b5ae-e9d12c1ad50c",
   "metadata": {},
   "source": [
    "##### Dane zeroskrętne (symetryczne)\n",
    "\n",
    "W danych z zerowym współczynnikiem skośności dane są rozłożone symetrycznie, a średnia, mediana i dominanta są równe lub bliskie sobie (mean = median = mode)."
   ]
  },
  {
   "cell_type": "code",
   "execution_count": 88,
   "id": "e31171ab-a2c5-4111-8059-957ef3d43584",
   "metadata": {
    "scrolled": true
   },
   "outputs": [
    {
     "data": {
      "text/html": [
       "<div>\n",
       "<style scoped>\n",
       "    .dataframe tbody tr th:only-of-type {\n",
       "        vertical-align: middle;\n",
       "    }\n",
       "\n",
       "    .dataframe tbody tr th {\n",
       "        vertical-align: top;\n",
       "    }\n",
       "\n",
       "    .dataframe thead th {\n",
       "        text-align: right;\n",
       "    }\n",
       "</style>\n",
       "<table border=\"1\" class=\"dataframe\">\n",
       "  <thead>\n",
       "    <tr style=\"text-align: right;\">\n",
       "      <th></th>\n",
       "      <th>0</th>\n",
       "    </tr>\n",
       "  </thead>\n",
       "  <tbody>\n",
       "    <tr>\n",
       "      <th>0</th>\n",
       "      <td>1</td>\n",
       "    </tr>\n",
       "    <tr>\n",
       "      <th>1</th>\n",
       "      <td>1</td>\n",
       "    </tr>\n",
       "    <tr>\n",
       "      <th>2</th>\n",
       "      <td>2</td>\n",
       "    </tr>\n",
       "    <tr>\n",
       "      <th>3</th>\n",
       "      <td>2</td>\n",
       "    </tr>\n",
       "    <tr>\n",
       "      <th>4</th>\n",
       "      <td>3</td>\n",
       "    </tr>\n",
       "    <tr>\n",
       "      <th>5</th>\n",
       "      <td>3</td>\n",
       "    </tr>\n",
       "    <tr>\n",
       "      <th>6</th>\n",
       "      <td>3</td>\n",
       "    </tr>\n",
       "    <tr>\n",
       "      <th>7</th>\n",
       "      <td>4</td>\n",
       "    </tr>\n",
       "    <tr>\n",
       "      <th>8</th>\n",
       "      <td>4</td>\n",
       "    </tr>\n",
       "    <tr>\n",
       "      <th>9</th>\n",
       "      <td>4</td>\n",
       "    </tr>\n",
       "    <tr>\n",
       "      <th>10</th>\n",
       "      <td>4</td>\n",
       "    </tr>\n",
       "    <tr>\n",
       "      <th>11</th>\n",
       "      <td>4</td>\n",
       "    </tr>\n",
       "    <tr>\n",
       "      <th>12</th>\n",
       "      <td>5</td>\n",
       "    </tr>\n",
       "    <tr>\n",
       "      <th>13</th>\n",
       "      <td>5</td>\n",
       "    </tr>\n",
       "    <tr>\n",
       "      <th>14</th>\n",
       "      <td>5</td>\n",
       "    </tr>\n",
       "    <tr>\n",
       "      <th>15</th>\n",
       "      <td>6</td>\n",
       "    </tr>\n",
       "    <tr>\n",
       "      <th>16</th>\n",
       "      <td>6</td>\n",
       "    </tr>\n",
       "    <tr>\n",
       "      <th>17</th>\n",
       "      <td>7</td>\n",
       "    </tr>\n",
       "    <tr>\n",
       "      <th>18</th>\n",
       "      <td>7</td>\n",
       "    </tr>\n",
       "  </tbody>\n",
       "</table>\n",
       "</div>"
      ],
      "text/plain": [
       "    0\n",
       "0   1\n",
       "1   1\n",
       "2   2\n",
       "3   2\n",
       "4   3\n",
       "5   3\n",
       "6   3\n",
       "7   4\n",
       "8   4\n",
       "9   4\n",
       "10  4\n",
       "11  4\n",
       "12  5\n",
       "13  5\n",
       "14  5\n",
       "15  6\n",
       "16  6\n",
       "17  7\n",
       "18  7"
      ]
     },
     "execution_count": 88,
     "metadata": {},
     "output_type": "execute_result"
    }
   ],
   "source": [
    "# Ramka z zeroskrętnymi danymi\n",
    "zero_skewed_df = pd.DataFrame(data_zero_skewed)\n",
    "zero_skewed_df"
   ]
  },
  {
   "cell_type": "code",
   "execution_count": 90,
   "id": "c81a1980-32fd-4dcf-bc42-6876f3fd445d",
   "metadata": {},
   "outputs": [
    {
     "data": {
      "text/plain": [
       "<Axes: xlabel='0'>"
      ]
     },
     "execution_count": 90,
     "metadata": {},
     "output_type": "execute_result"
    },
    {
     "data": {
      "image/png": "[encoded data removed]",
      "text/plain": [
       "<Figure size 640x480 with 1 Axes>"
      ]
     },
     "metadata": {},
     "output_type": "display_data"
    }
   ],
   "source": [
    "# wykres danych zeroskrętnych\n",
    "zero_skewed_df[0].value_counts().sort_index().plot(kind='bar')"
   ]
  },
  {
   "cell_type": "code",
   "execution_count": 95,
   "id": "f5fd8fa8-6553-4b93-8ca0-0d17324c2cfd",
   "metadata": {},
   "outputs": [
    {
     "data": {
      "text/plain": [
       "np.float64(4.0)"
      ]
     },
     "execution_count": 95,
     "metadata": {},
     "output_type": "execute_result"
    }
   ],
   "source": [
    "# średnia danych zeroskrętnych\n",
    "mean = zero_skewed_df[0].mean()\n",
    "mean"
   ]
  },
  {
   "cell_type": "code",
   "execution_count": 96,
   "id": "dedec8da-3dab-4256-8268-42b9e8466e1a",
   "metadata": {},
   "outputs": [
    {
     "data": {
      "text/plain": [
       "np.float64(4.0)"
      ]
     },
     "execution_count": 96,
     "metadata": {},
     "output_type": "execute_result"
    }
   ],
   "source": [
    "# mediana danych zeroskrętnych\n",
    "median = zero_skewed_df[0].median()\n",
    "median"
   ]
  },
  {
   "cell_type": "code",
   "execution_count": 97,
   "id": "8b771c52-9ad6-433f-a7fc-c2fbe2e5fd98",
   "metadata": {},
   "outputs": [
    {
     "data": {
      "text/plain": [
       "np.int64(4)"
      ]
     },
     "execution_count": 97,
     "metadata": {},
     "output_type": "execute_result"
    }
   ],
   "source": [
    "# Dominanta danych zeroskrętnych\n",
    "mode = zero_skewed_df[0].mode()[0]\n",
    "mode"
   ]
  },
  {
   "cell_type": "code",
   "execution_count": 98,
   "id": "10ae22f5-1289-4433-9dce-481d858ccaef",
   "metadata": {},
   "outputs": [
    {
     "data": {
      "image/png": "[encoded data removed]",
      "text/plain": [
       "<Figure size 640x480 with 1 Axes>"
      ]
     },
     "metadata": {},
     "output_type": "display_data"
    }
   ],
   "source": [
    "# Wykres z naniesionymi statystykami\n",
    "import matplotlib.pyplot as plt\n",
    "\n",
    "value_counts = zero_skewed_df[0].value_counts().sort_index()\n",
    "\n",
    "fig, ax = plt.subplots()\n",
    "ax.bar(value_counts.index, value_counts.values);\n",
    "\n",
    "ax.axvline(x=mode, color='y', linestyle='--', label=f\"Dominanta: {mode}\");\n",
    "ax.axvline(x=median, color='r', linestyle='--', label=f\"Mediana: {median}\");\n",
    "ax.axvline(x=mean, color='b', linestyle='--', label=f\"Średnia: {mean}\");\n",
    "ax.legend();"
   ]
  },
  {
   "cell_type": "markdown",
   "id": "014088cc-394d-431f-93e3-a8ff80d14f94",
   "metadata": {},
   "source": [
    "##### Dane prawoskrętne\n",
    "\n",
    "W danych prawoskrętnych wartości gromadzą się na prawo od wartości centralnej. W wyniku tego po prawej stronie jest więcej wartości, prawy ogon jest \"cięży\", wartości po prawej \"ciągną\" podatne miary na prawo. Średnia jako miara najbaridziej podatna ma wartość największą, mediana jest mniejsza, a najmniejsza jest domiananta (mean > median > mode)."
   ]
  },
  {
   "cell_type": "code",
   "execution_count": null,
   "id": "70a924bf-3e4a-49d4-bb7e-0395e08dcb62",
   "metadata": {
    "scrolled": true
   },
   "outputs": [],
   "source": [
    "# Ramka z danymi prawoskrętnymi\n"
   ]
  },
  {
   "cell_type": "code",
   "execution_count": null,
   "id": "99c3d8d0-7201-4d6e-9b2c-0ac928672498",
   "metadata": {},
   "outputs": [],
   "source": [
    "# Wykres danych prawoskrętnych\n"
   ]
  },
  {
   "cell_type": "code",
   "execution_count": null,
   "id": "e942e387-41d3-4e86-adcc-efbadd900305",
   "metadata": {},
   "outputs": [],
   "source": [
    "# Średnia danych prawoskrętnych\n"
   ]
  },
  {
   "cell_type": "code",
   "execution_count": null,
   "id": "48b753af-64c4-4bf0-92a6-bd5b8cc9291d",
   "metadata": {},
   "outputs": [],
   "source": [
    "# mediana danych prawoskrętnych\n"
   ]
  },
  {
   "cell_type": "code",
   "execution_count": null,
   "id": "0ad10da6-fdd2-47c4-a7b0-4640535b963b",
   "metadata": {},
   "outputs": [],
   "source": [
    "# dominanta danych prawoskrętnych\n"
   ]
  },
  {
   "cell_type": "code",
   "execution_count": null,
   "id": "d5560018-53bd-4ba4-8ff9-2de3c8c6cd01",
   "metadata": {},
   "outputs": [],
   "source": [
    "# Wykres z naniesionymi statystykami\n"
   ]
  },
  {
   "attachments": {
    "a40ad772-8105-45c0-8f31-73f740ae8dbd.png": {
     "image/png": "[encoded data removed]"
    }
   },
   "cell_type": "markdown",
   "id": "961d95e7-9305-4132-87f9-9432fbf09565",
   "metadata": {},
   "source": [
    "**Pytanie**\n",
    "\n",
    "Które z poniższych stwierdzeń można wysnuć na temat próby na podstawie wykresu rozkładu?\n",
    "\n",
    "![image.png](attachment:a40ad772-8105-45c0-8f31-73f740ae8dbd.png)\n",
    "\n",
    "A. dane mają pozytywną skośność \\\n",
    "B. dane mają negatywną skośność \\\n",
    "C. dominanta jest większa od średniej \\\n",
    "D. żadne z powyższych"
   ]
  },
  {
   "cell_type": "markdown",
   "id": "7f433c94-fed0-4645-b45c-c8bd57e139f2",
   "metadata": {},
   "source": [
    "Omówiliśmy wszystkie najważniejsze miary dotyczące jednej zmiennej. Teraz zapoznajmy się z miarami, które stosujemy, gdy pracujemy z więcej niż jedną zmienną."
   ]
  },
  {
   "cell_type": "markdown",
   "id": "20df8a31-4e70-4124-85d9-06ffaa55cb20",
   "metadata": {},
   "source": [
    "### Miary zależności pomiędzy zmiennymi"
   ]
  },
  {
   "cell_type": "markdown",
   "id": "de31545f-e0e1-487b-8c4f-b9d9bbb20692",
   "metadata": {},
   "source": [
    "Omówimy miary, które mogą pomóc nam odkryć zależność między zmiennymi. Do najpopularniejszych należą:\n",
    "- kowariancja\n",
    "- współczynnik korelacji liniowej"
   ]
  },
  {
   "cell_type": "markdown",
   "id": "6936e940-90fa-4f89-87bc-7bf52e89ae99",
   "metadata": {},
   "source": [
    "Do przeanalizowania weźmy dane z rynku nieruchomości. Pomyślmy co ma wpływ na cenę domu. Na pewno jego powierzchnia. Weźmy te dwie zmienne i sprawdźmy, czy uda się nam odnaleźć zależności pomiędzy nimi.\n",
    "\n",
    "W pliku `housing.csv` znajdują się dane domów ze stanu Kalifornia. Jest to jeden z popularniejszych zbiorów treningowych w uczeniu maszynowym. Popatrzmy na niego."
   ]
  },
  {
   "cell_type": "code",
   "execution_count": 105,
   "id": "6e4cf682-2a4c-4716-b64e-df34f0fbf975",
   "metadata": {},
   "outputs": [
    {
     "data": {
      "text/html": [
       "<div>\n",
       "<style scoped>\n",
       "    .dataframe tbody tr th:only-of-type {\n",
       "        vertical-align: middle;\n",
       "    }\n",
       "\n",
       "    .dataframe tbody tr th {\n",
       "        vertical-align: top;\n",
       "    }\n",
       "\n",
       "    .dataframe thead th {\n",
       "        text-align: right;\n",
       "    }\n",
       "</style>\n",
       "<table border=\"1\" class=\"dataframe\">\n",
       "  <thead>\n",
       "    <tr style=\"text-align: right;\">\n",
       "      <th></th>\n",
       "      <th>price</th>\n",
       "      <th>area</th>\n",
       "      <th>bedrooms</th>\n",
       "      <th>bathrooms</th>\n",
       "      <th>stories</th>\n",
       "      <th>mainroad</th>\n",
       "      <th>guestroom</th>\n",
       "      <th>basement</th>\n",
       "      <th>hotwaterheating</th>\n",
       "      <th>airconditioning</th>\n",
       "      <th>parking</th>\n",
       "      <th>prefarea</th>\n",
       "      <th>furnishingstatus</th>\n",
       "    </tr>\n",
       "  </thead>\n",
       "  <tbody>\n",
       "    <tr>\n",
       "      <th>0</th>\n",
       "      <td>13300000</td>\n",
       "      <td>7420</td>\n",
       "      <td>4</td>\n",
       "      <td>2</td>\n",
       "      <td>3</td>\n",
       "      <td>yes</td>\n",
       "      <td>no</td>\n",
       "      <td>no</td>\n",
       "      <td>no</td>\n",
       "      <td>yes</td>\n",
       "      <td>2</td>\n",
       "      <td>yes</td>\n",
       "      <td>furnished</td>\n",
       "    </tr>\n",
       "    <tr>\n",
       "      <th>1</th>\n",
       "      <td>12250000</td>\n",
       "      <td>8960</td>\n",
       "      <td>4</td>\n",
       "      <td>4</td>\n",
       "      <td>4</td>\n",
       "      <td>yes</td>\n",
       "      <td>no</td>\n",
       "      <td>no</td>\n",
       "      <td>no</td>\n",
       "      <td>yes</td>\n",
       "      <td>3</td>\n",
       "      <td>no</td>\n",
       "      <td>furnished</td>\n",
       "    </tr>\n",
       "    <tr>\n",
       "      <th>2</th>\n",
       "      <td>12250000</td>\n",
       "      <td>9960</td>\n",
       "      <td>3</td>\n",
       "      <td>2</td>\n",
       "      <td>2</td>\n",
       "      <td>yes</td>\n",
       "      <td>no</td>\n",
       "      <td>yes</td>\n",
       "      <td>no</td>\n",
       "      <td>no</td>\n",
       "      <td>2</td>\n",
       "      <td>yes</td>\n",
       "      <td>semi-furnished</td>\n",
       "    </tr>\n",
       "    <tr>\n",
       "      <th>3</th>\n",
       "      <td>12215000</td>\n",
       "      <td>7500</td>\n",
       "      <td>4</td>\n",
       "      <td>2</td>\n",
       "      <td>2</td>\n",
       "      <td>yes</td>\n",
       "      <td>no</td>\n",
       "      <td>yes</td>\n",
       "      <td>no</td>\n",
       "      <td>yes</td>\n",
       "      <td>3</td>\n",
       "      <td>yes</td>\n",
       "      <td>furnished</td>\n",
       "    </tr>\n",
       "    <tr>\n",
       "      <th>4</th>\n",
       "      <td>11410000</td>\n",
       "      <td>7420</td>\n",
       "      <td>4</td>\n",
       "      <td>1</td>\n",
       "      <td>2</td>\n",
       "      <td>yes</td>\n",
       "      <td>yes</td>\n",
       "      <td>yes</td>\n",
       "      <td>no</td>\n",
       "      <td>yes</td>\n",
       "      <td>2</td>\n",
       "      <td>no</td>\n",
       "      <td>furnished</td>\n",
       "    </tr>\n",
       "    <tr>\n",
       "      <th>...</th>\n",
       "      <td>...</td>\n",
       "      <td>...</td>\n",
       "      <td>...</td>\n",
       "      <td>...</td>\n",
       "      <td>...</td>\n",
       "      <td>...</td>\n",
       "      <td>...</td>\n",
       "      <td>...</td>\n",
       "      <td>...</td>\n",
       "      <td>...</td>\n",
       "      <td>...</td>\n",
       "      <td>...</td>\n",
       "      <td>...</td>\n",
       "    </tr>\n",
       "    <tr>\n",
       "      <th>540</th>\n",
       "      <td>1820000</td>\n",
       "      <td>3000</td>\n",
       "      <td>2</td>\n",
       "      <td>1</td>\n",
       "      <td>1</td>\n",
       "      <td>yes</td>\n",
       "      <td>no</td>\n",
       "      <td>yes</td>\n",
       "      <td>no</td>\n",
       "      <td>no</td>\n",
       "      <td>2</td>\n",
       "      <td>no</td>\n",
       "      <td>unfurnished</td>\n",
       "    </tr>\n",
       "    <tr>\n",
       "      <th>541</th>\n",
       "      <td>1767150</td>\n",
       "      <td>2400</td>\n",
       "      <td>3</td>\n",
       "      <td>1</td>\n",
       "      <td>1</td>\n",
       "      <td>no</td>\n",
       "      <td>no</td>\n",
       "      <td>no</td>\n",
       "      <td>no</td>\n",
       "      <td>no</td>\n",
       "      <td>0</td>\n",
       "      <td>no</td>\n",
       "      <td>semi-furnished</td>\n",
       "    </tr>\n",
       "    <tr>\n",
       "      <th>542</th>\n",
       "      <td>1750000</td>\n",
       "      <td>3620</td>\n",
       "      <td>2</td>\n",
       "      <td>1</td>\n",
       "      <td>1</td>\n",
       "      <td>yes</td>\n",
       "      <td>no</td>\n",
       "      <td>no</td>\n",
       "      <td>no</td>\n",
       "      <td>no</td>\n",
       "      <td>0</td>\n",
       "      <td>no</td>\n",
       "      <td>unfurnished</td>\n",
       "    </tr>\n",
       "    <tr>\n",
       "      <th>543</th>\n",
       "      <td>1750000</td>\n",
       "      <td>2910</td>\n",
       "      <td>3</td>\n",
       "      <td>1</td>\n",
       "      <td>1</td>\n",
       "      <td>no</td>\n",
       "      <td>no</td>\n",
       "      <td>no</td>\n",
       "      <td>no</td>\n",
       "      <td>no</td>\n",
       "      <td>0</td>\n",
       "      <td>no</td>\n",
       "      <td>furnished</td>\n",
       "    </tr>\n",
       "    <tr>\n",
       "      <th>544</th>\n",
       "      <td>1750000</td>\n",
       "      <td>3850</td>\n",
       "      <td>3</td>\n",
       "      <td>1</td>\n",
       "      <td>2</td>\n",
       "      <td>yes</td>\n",
       "      <td>no</td>\n",
       "      <td>no</td>\n",
       "      <td>no</td>\n",
       "      <td>no</td>\n",
       "      <td>0</td>\n",
       "      <td>no</td>\n",
       "      <td>unfurnished</td>\n",
       "    </tr>\n",
       "  </tbody>\n",
       "</table>\n",
       "<p>545 rows × 13 columns</p>\n",
       "</div>"
      ],
      "text/plain": [
       "        price  area  bedrooms  bathrooms  stories mainroad guestroom basement  \\\n",
       "0    13300000  7420         4          2        3      yes        no       no   \n",
       "1    12250000  8960         4          4        4      yes        no       no   \n",
       "2    12250000  9960         3          2        2      yes        no      yes   \n",
       "3    12215000  7500         4          2        2      yes        no      yes   \n",
       "4    11410000  7420         4          1        2      yes       yes      yes   \n",
       "..        ...   ...       ...        ...      ...      ...       ...      ...   \n",
       "540   1820000  3000         2          1        1      yes        no      yes   \n",
       "541   1767150  2400         3          1        1       no        no       no   \n",
       "542   1750000  3620         2          1        1      yes        no       no   \n",
       "543   1750000  2910         3          1        1       no        no       no   \n",
       "544   1750000  3850         3          1        2      yes        no       no   \n",
       "\n",
       "    hotwaterheating airconditioning  parking prefarea furnishingstatus  \n",
       "0                no             yes        2      yes        furnished  \n",
       "1                no             yes        3       no        furnished  \n",
       "2                no              no        2      yes   semi-furnished  \n",
       "3                no             yes        3      yes        furnished  \n",
       "4                no             yes        2       no        furnished  \n",
       "..              ...             ...      ...      ...              ...  \n",
       "540              no              no        2       no      unfurnished  \n",
       "541              no              no        0       no   semi-furnished  \n",
       "542              no              no        0       no      unfurnished  \n",
       "543              no              no        0       no        furnished  \n",
       "544              no              no        0       no      unfurnished  \n",
       "\n",
       "[545 rows x 13 columns]"
      ]
     },
     "execution_count": 105,
     "metadata": {},
     "output_type": "execute_result"
    }
   ],
   "source": [
    "# Dane kalifornijskich domów\n",
    "df = pd.read_csv(\"housing.csv\")\n",
    "df"
   ]
  },
  {
   "cell_type": "markdown",
   "id": "cf6033b4-0410-4f61-8f5c-78cf71b62f0b",
   "metadata": {},
   "source": [
    "Interesuje nas wyłącznie powierzchnia i cena."
   ]
  },
  {
   "cell_type": "code",
   "execution_count": 101,
   "id": "ee259faa-4c46-4f0a-97b8-011dbcd511c8",
   "metadata": {},
   "outputs": [
    {
     "data": {
      "text/html": [
       "<div>\n",
       "<style scoped>\n",
       "    .dataframe tbody tr th:only-of-type {\n",
       "        vertical-align: middle;\n",
       "    }\n",
       "\n",
       "    .dataframe tbody tr th {\n",
       "        vertical-align: top;\n",
       "    }\n",
       "\n",
       "    .dataframe thead th {\n",
       "        text-align: right;\n",
       "    }\n",
       "</style>\n",
       "<table border=\"1\" class=\"dataframe\">\n",
       "  <thead>\n",
       "    <tr style=\"text-align: right;\">\n",
       "      <th></th>\n",
       "      <th>area</th>\n",
       "      <th>price</th>\n",
       "    </tr>\n",
       "  </thead>\n",
       "  <tbody>\n",
       "    <tr>\n",
       "      <th>0</th>\n",
       "      <td>7420</td>\n",
       "      <td>13300000</td>\n",
       "    </tr>\n",
       "    <tr>\n",
       "      <th>1</th>\n",
       "      <td>8960</td>\n",
       "      <td>12250000</td>\n",
       "    </tr>\n",
       "    <tr>\n",
       "      <th>2</th>\n",
       "      <td>9960</td>\n",
       "      <td>12250000</td>\n",
       "    </tr>\n",
       "    <tr>\n",
       "      <th>3</th>\n",
       "      <td>7500</td>\n",
       "      <td>12215000</td>\n",
       "    </tr>\n",
       "    <tr>\n",
       "      <th>4</th>\n",
       "      <td>7420</td>\n",
       "      <td>11410000</td>\n",
       "    </tr>\n",
       "    <tr>\n",
       "      <th>...</th>\n",
       "      <td>...</td>\n",
       "      <td>...</td>\n",
       "    </tr>\n",
       "    <tr>\n",
       "      <th>540</th>\n",
       "      <td>3000</td>\n",
       "      <td>1820000</td>\n",
       "    </tr>\n",
       "    <tr>\n",
       "      <th>541</th>\n",
       "      <td>2400</td>\n",
       "      <td>1767150</td>\n",
       "    </tr>\n",
       "    <tr>\n",
       "      <th>542</th>\n",
       "      <td>3620</td>\n",
       "      <td>1750000</td>\n",
       "    </tr>\n",
       "    <tr>\n",
       "      <th>543</th>\n",
       "      <td>2910</td>\n",
       "      <td>1750000</td>\n",
       "    </tr>\n",
       "    <tr>\n",
       "      <th>544</th>\n",
       "      <td>3850</td>\n",
       "      <td>1750000</td>\n",
       "    </tr>\n",
       "  </tbody>\n",
       "</table>\n",
       "<p>545 rows × 2 columns</p>\n",
       "</div>"
      ],
      "text/plain": [
       "     area     price\n",
       "0    7420  13300000\n",
       "1    8960  12250000\n",
       "2    9960  12250000\n",
       "3    7500  12215000\n",
       "4    7420  11410000\n",
       "..    ...       ...\n",
       "540  3000   1820000\n",
       "541  2400   1767150\n",
       "542  3620   1750000\n",
       "543  2910   1750000\n",
       "544  3850   1750000\n",
       "\n",
       "[545 rows x 2 columns]"
      ]
     },
     "execution_count": 101,
     "metadata": {},
     "output_type": "execute_result"
    }
   ],
   "source": [
    "# Ramka z powierzchnią i ceną\n",
    "data = df[['area', 'price']]\n",
    "data"
   ]
  },
  {
   "cell_type": "markdown",
   "id": "b7120d34-b324-4f65-ae25-bd9ed679b1c2",
   "metadata": {
    "scrolled": true
   },
   "source": [
    "Chcemy sprawdzić, czy istnieje zależność pomiędzy tymi dwoma zmiennymi. Na początek możemy nanieść dane na wykres i oszacować organoleptycznie, czy w danych są widoczne jakieś tendencje."
   ]
  },
  {
   "cell_type": "code",
   "execution_count": 110,
   "id": "93dabe73-93b3-4e61-b509-ff8f524f16cc",
   "metadata": {},
   "outputs": [
    {
     "data": {
      "image/png": "[encoded data removed]",
      "text/plain": [
       "<Figure size 640x480 with 1 Axes>"
      ]
     },
     "metadata": {},
     "output_type": "display_data"
    }
   ],
   "source": [
    "# Wykres punktowy powierzchnia(cena)\n",
    "data.plot(kind='scatter', x='area', y='price');"
   ]
  },
  {
   "cell_type": "markdown",
   "id": "25a9cfbd-6fe1-49d2-bdf6-2db0bb3408da",
   "metadata": {},
   "source": [
    "Widzimy, że dane są mocno rozrzucone. Duża część danych jest blisko siebie, ale istnieją też bardzo mocne outliery na obu osiach. Zmieńmy obu osiom skalę na logarytmiczną (funkcja logarytmiczna jest monotoniczna, więc nie zepsuje nam to potencjalnej zależności jeżeli istnieje)."
   ]
  },
  {
   "cell_type": "code",
   "execution_count": 112,
   "id": "f91d2b5c-2d21-46a9-b86a-74327c4d634b",
   "metadata": {},
   "outputs": [
    {
     "data": {
      "image/png": "[encoded data removed]",
      "text/plain": [
       "<Figure size 640x480 with 1 Axes>"
      ]
     },
     "metadata": {},
     "output_type": "display_data"
    }
   ],
   "source": [
    "# wykres punktowy powierzchnia(cena), skala logarytmiczna\n",
    "data.plot(kind='scatter', x='area', y='price', loglog=True);"
   ]
  },
  {
   "cell_type": "markdown",
   "id": "2f6d26c3-9b24-41c4-8b4a-84d861bb6717",
   "metadata": {},
   "source": [
    "Widzimy wyraźną zależność. W takiej sytuacji mówimy, że dane są **skorelowane**. Im większa powierzchnia tym większa cena domu. Taki typ korelacji nazywamy **korelacją dodatnią**. W jaki sposób możemy ilościowo opisać tę zależność?\n",
    "\n",
    "Podatawową miarą korelacj dwóch zmiennych i jest **kowariancja**."
   ]
  },
  {
   "cell_type": "markdown",
   "id": "a754e4f0-8e72-451d-9e45-995800cb8d1f",
   "metadata": {},
   "source": [
    "#### Kowariancja"
   ]
  },
  {
   "cell_type": "markdown",
   "id": "29832a52-8225-4011-8f8c-73d15d4ef886",
   "metadata": {},
   "source": [
    "Kowarancja (**ang. covariance**) wyraża się wzorem:\n",
    "- dla populacji\n",
    "$$\\sigma_{xy}=\\frac{\\sum_{i=1}^{N}(x_i-\\mu_x)\\cdot(y_i-\\mu_y)}{N}$$\n",
    "\n",
    "- dla próby\n",
    "$$s_{xy}=\\frac{\\sum_{i=1}^{n}(x_i-\\bar{x})\\cdot(y_i-\\bar{y})}{n-1}$$"
   ]
  },
  {
   "cell_type": "markdown",
   "id": "45bc9a49-81f3-4361-b228-4f16322305c3",
   "metadata": {},
   "source": [
    "W jaki sposób możemy rozumieć te wzory?\n",
    "\n",
    "Spójrz na licznik. Mamy tam odległości od średniej. Iloczyn tych odległości. Jeżeli obie wartości \"poruszają się\" w tym samym kierunku to będzie dużo wartości z dodatnim znakiem. Jeżeli obie wartości \"poruszają się\" w przeciwnych kierunkach to będzie dużo wartości ze znakiem ujemnym.\n",
    "\n",
    "Policzmy kowariancję."
   ]
  },
  {
   "cell_type": "code",
   "execution_count": 114,
   "id": "7d71d393-7cba-4453-9686-3777e45f3352",
   "metadata": {},
   "outputs": [
    {
     "data": {
      "text/plain": [
       "np.float64(2175676334.874865)"
      ]
     },
     "execution_count": 114,
     "metadata": {},
     "output_type": "execute_result"
    }
   ],
   "source": [
    "# kowaraiancja powierzchni i ceny\n",
    "cov_xy = data['area'].cov(data['price'])\n",
    "cov_xy"
   ]
  },
  {
   "cell_type": "markdown",
   "id": "0e35687e-7d9f-48a4-a409-dca5e9ee057f",
   "metadata": {},
   "source": [
    "Mamy dodatnią kowariancję.\n",
    "\n",
    "Jest tylko jeden mały problem z kowariancją. Może ona przyjąć wartość 5 lub 50, ale także coś w rodzaju 0,0002345 albo nawet ponad setki milionów. Wartości o zupełnie innej skali! Kowariancja nie jest w żaden sposób znormalizowana. Poza samym znakiem wartość kowariancji jest bezużyteczna i zależy wyłącznie od skali (użytych jednostek).\n",
    "\n",
    "Ale możemy ją przeskalować. Przez co? Przez standarowe odchylenie otrzymując w ten sposób względną miarę kowariancji (względem standarowego odchylenia), nazywaną współczynnikiem korelacji (pod tym względem współczynnik korelacji nie różni się niczym od omówionego już współczynnika wariancji)."
   ]
  },
  {
   "cell_type": "markdown",
   "id": "e097e83e-0783-4201-96a4-40025d2de898",
   "metadata": {},
   "source": [
    "#### Współczynnik korelacji"
   ]
  },
  {
   "cell_type": "markdown",
   "id": "78866be7-6984-454e-8aa1-19a59ce8cf52",
   "metadata": {},
   "source": [
    "Współczynnik korelacji aka korelacja Pearsona (**ang. correlation coefficient aka Pearson correlation**) to nic innego jak przeskalowana kowariancja. Jest to najpopularniejszy estymator korelacji dwóch zmiennych. Dzięki niemu otrzymana wartość relacji między dwiema zmiennymi jest łatwa i intuicyjna do interpretacji. Współczynnik korelacji interpretujemy jako miarę tego jak zmienność jednej zmiennej tłumaczy zmienność drugiej zmiennej. Współczynnik korelacji na poziomie 1 lub -1 oznacza, że cała zmienność jednej zmiennej jest \"wytłumaczona\" przez drugą zmienną."
   ]
  },
  {
   "cell_type": "markdown",
   "id": "d3f5fc4e-cae6-49fd-86d8-becdd23fa895",
   "metadata": {},
   "source": [
    "Formuła na współczynnik korelacji wyraża się wzorem:\n",
    "- dla populacji:\n",
    "$$\\frac{\\sigma_{xy}}{\\sigma_{x}\\cdot \\sigma_y}$$\n",
    "\n",
    "- dla próby:\n",
    "$$\\frac{s_{xy}}{s_{x}\\cdot s_y}$$"
   ]
  },
  {
   "cell_type": "markdown",
   "id": "dcc5f311-954b-4ae6-9a19-76f4b2c0ed21",
   "metadata": {},
   "source": [
    "Współczynnik korelacji przejmuje wartości z przedziału $[-1, 1]$. Przy czym -1 oznacza pełną korelację dodatnią, 1 pełną korelację dodatnią, a 0 brak korelacji."
   ]
  },
  {
   "cell_type": "markdown",
   "id": "731fbd98-56f5-4fed-86cf-b7f8bcbc6696",
   "metadata": {},
   "source": [
    "Przykładem zerowej korelacji dwóch zmiennych może być cena kawy w Brazylii i cena mieszkań w Lublinie. Przykładem zmiennych o ujemnej korelacji może być liczba sprzedanych rozgrzewających herbat i liczba sprzedanych lodów w poszczególne dni. Przykładem dodatnie skorelowanych zmiennych mogą być liczba godzin poświęconych na naukę do egzaminu i wynik egzaminu."
   ]
  },
  {
   "cell_type": "markdown",
   "id": "450ef732-7a4e-4815-bb27-28c34f258c6e",
   "metadata": {},
   "source": [
    "Policzmy korelację pomiędzy zmiennymi z naszego przykładu."
   ]
  },
  {
   "cell_type": "code",
   "execution_count": 115,
   "id": "87fd367a-2f2f-45f5-9261-82ba914d41a2",
   "metadata": {},
   "outputs": [
    {
     "data": {
      "text/plain": [
       "np.float64(0.5359973457780801)"
      ]
     },
     "execution_count": 115,
     "metadata": {},
     "output_type": "execute_result"
    }
   ],
   "source": [
    "# współczynnik korelacji powierzchnia i cena\n",
    "cor_xy = data['area'].corr(data['price'])\n",
    "cor_xy"
   ]
  },
  {
   "cell_type": "markdown",
   "id": "56b91a1b-2155-4bcb-ac67-772f17fb0b0e",
   "metadata": {},
   "source": [
    "Widzimy korelację na poziomie 0.54 co oznacza, że powierzchnia i cena domu są ze sobą silnie, dodatnio skorelowane (czyli wraz ze wzrostem/spadkiem jednej zmiennej rośnie/spada wartość drugiej). Nie oznacza to jeszcze jednak przyczynowości co przenosi nas do omówionej już sentencji:\n",
    "\n",
    "**Correlation is not causation**\n",
    "\n",
    "ostrzeżenia, że samo istnienie korelacji między dwiema zmiennymi nie oznacza, że jedna z nich powoduje zmiany w drugiej. Korelacja pokazuje jedynie, że zmienne mogą być ze sobą powiązane, ale nie informuje o tym, która jest przyczyną, a która skutkiem – ani nawet o tym, czy takie powiązanie jest bezpośrednie, czy może wynikać z działania innego czynnika."
   ]
  }
 ],
 "metadata": {
  "kernelspec": {
   "display_name": "Python 3 (ipykernel)",
   "language": "python",
   "name": "python3"
  },
  "language_info": {
   "codemirror_mode": {
    "name": "ipython",
    "version": 3
   },
   "file_extension": ".py",
   "mimetype": "text/x-python",
   "name": "python",
   "nbconvert_exporter": "python",
   "pygments_lexer": "ipython3",
   "version": "3.12.4"
  }
 },
 "nbformat": 4,
 "nbformat_minor": 5
}
